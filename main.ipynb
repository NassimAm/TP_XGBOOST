{
 "cells": [
  {
   "cell_type": "markdown",
   "metadata": {},
   "source": [
    "# Implémentation et test du modèle XGBOOST\n",
    "---\n",
    "\n",
    "Dans ce notebook, on va découvrir les différents aspects du modèle XGBOOST. En premier lieu nous allons implémenter le modèle à zéro (from scratch) ensuite en deuxième partie nous allons directement utiliser le modèle depuis l'officielle bibliothèque ([xgboost](https://github.com/dmlc/xgboost)) et effectuer avec différents tests."
   ]
  },
  {
   "cell_type": "code",
   "execution_count": 325,
   "metadata": {},
   "outputs": [
    {
     "data": {
      "text/plain": [
       "('1.24.3', '2.0.1')"
      ]
     },
     "execution_count": 325,
     "metadata": {},
     "output_type": "execute_result"
    }
   ],
   "source": [
    "# Importation des modules nécessaires\n",
    "\n",
    "import numpy as np\n",
    "import pandas as pd\n",
    "import matplotlib.pyplot as plt\n",
    "\n",
    "np.__version__, pd.__version__"
   ]
  },
  {
   "cell_type": "markdown",
   "metadata": {},
   "source": [
    "## Introduction\n",
    "\n",
    "Pour bien débuter, nous posons d'abord les premières notions qu'on va utiliser directement dans les prochaines sections.\n",
    "Tout au long du notebook, en parlant du dataset donné on note le nombre d'individus $n$ et le nombre de caractéristiques de chaque individu $m$. Ou plus explicitement le dataset ($D$) est donné comme il suit:\n",
    "$$D = \\{(x_i,y_i) \\text{ tq } x_i \\in R^m, y_i \\in R\\}$$"
   ]
  },
  {
   "cell_type": "markdown",
   "metadata": {},
   "source": [
    "## I. Réalisation des algorithmes\n",
    "\n",
    "Cette partie servira à la compréhension des algorithmes utilisés dans un modèle XGBOOST en les implémentant de zéro pour les deux cas (Régression et Classification). Pour cela nous allons utiliser seulement la bibliothèque **numpy** qui est utile dans les calculs matriciels."
   ]
  },
  {
   "cell_type": "markdown",
   "metadata": {},
   "source": [
    "### I.1. Fonction de prédiction\n",
    "\n",
    "Pour un dataset donné ($D$), la fonction de prédiction du modèle est la somme des $K + 1$ plus simples fonctions de prédiction. Les fonctions de prédiction ($f_k$) avec $k >= 1$ donne les résultats du parcours des arbres de régression construits lors de l'entrainement du modèle. Pour la fonction initiale ($f_0$), ce n'est qu'une valeur constante initiale déterminée au début de l'entraînement. On donne la fonction de prédiction du modèle donc comme il suit:\n",
    "$$\\hat{y_i} = \\phi(x_i) = f_0 + \\eta \\sum\\limits_{k = 1}\\limits^{K} f_k(x_i)$$\n",
    "Note: $\\eta$ représente le taux d'apprentissage (learning rate)"
   ]
  },
  {
   "cell_type": "code",
   "execution_count": 326,
   "metadata": {},
   "outputs": [
    {
     "data": {
      "text/plain": [
       "array([16.6, 38.2])"
      ]
     },
     "execution_count": 326,
     "metadata": {},
     "output_type": "execute_result"
    }
   ],
   "source": [
    "def pred(X, f0, fs, eta=0.3):\n",
    "    return f0 + eta * np.sum(np.array([fk(X) for fk in fs]), axis=0)\n",
    "\n",
    "# Ceci n'est qu'un exemple d'une fonction d'un arbre pour faire fonctionner le test\n",
    "def f_test(X):\n",
    "    return np.sum(np.square(X) + X + 4, axis=1)\n",
    "\n",
    "X = np.array(\n",
    "    [\n",
    "        [1, 3],\n",
    "        [4, 5]\n",
    "    ]\n",
    ")\n",
    "\n",
    "f0 = 3.4\n",
    "\n",
    "#=====================================================================\n",
    "# TEST UNITAIRE\n",
    "#=====================================================================\n",
    "# Resultat : \n",
    "# array([16.6, 38.2])\n",
    "#---------------------------------------------------------------------\n",
    "\n",
    "pred(X, f0, [f_test, f_test])"
   ]
  },
  {
   "cell_type": "markdown",
   "metadata": {},
   "source": [
    "### I.2 Fonction du coût\n",
    "\n",
    "L'étape suivante serait de définir la fonction du coût (loss function) pour évaluer le modèle et le faire converger vers le point optimal. Or on a deux cas: la régression et la classification. Et donc on définira pour chacun des cas sa fonction de coût ensuite leurs dérivées pour pouvoir appliquer le [gradient boosting](https://en.wikipedia.org/wiki/Gradient_boosting) par la suite. "
   ]
  },
  {
   "cell_type": "markdown",
   "metadata": {},
   "source": [
    "#### I.2.1 Fonction du coût (Régression)\n",
    "\n",
    "Pour la régression, nous allons utiliser la somme des erreurs carrées (sum of squares error, SSE). Elle est définie comme il suit\n",
    "$$SSE = l(y_i,\\hat{y_i}) = \\frac{1}{2} (y_i - \\hat{y_i})^2$$\n",
    "Note: la fraction $\\frac{1}{2}$ est ajoutée juste pour simplifier les calculs (notamment pour la dérivée)"
   ]
  },
  {
   "cell_type": "code",
   "execution_count": 327,
   "metadata": {},
   "outputs": [
    {
     "data": {
      "text/plain": [
       "array([0.02 , 0.125, 0.125])"
      ]
     },
     "execution_count": 327,
     "metadata": {},
     "output_type": "execute_result"
    }
   ],
   "source": [
    "def SSE(Y, Y_pred):\n",
    "    return (1/2) * np.square(Y - Y_pred)\n",
    "\n",
    "Y = np.array([1.2, 3.5, 6.7])\n",
    "Y_pred = np.array([1.0, 4, 7.2])\n",
    "\n",
    "#=====================================================================\n",
    "# TEST UNITAIRE\n",
    "#=====================================================================\n",
    "# Resultat : \n",
    "# array([0.02 , 0.125, 0.125])\n",
    "#---------------------------------------------------------------------\n",
    "\n",
    "SSE(Y, Y_pred)"
   ]
  },
  {
   "cell_type": "markdown",
   "metadata": {},
   "source": [
    "Ensuite on calcule la dérivée de cette fonction de coût par rapport aux prédictions réalisées. Cela nous permettra de trouver la prédiction qui minimise la fonction coût. La dérivée est donc donnée comme il suit:\n",
    "$$\\frac{\\partial SSE}{\\partial \\hat{y_i}} = \\hat{y_i} - y_i$$\n",
    "Note: La valeur $y_i - \\hat{y_i}$ est appelée le résidu **$r_{ik}$** où $k$ représente le numéro de l'itération. Donc on a:\n",
    "$$r_{ik} = - \\frac{\\partial SSE}{\\partial \\hat{y_i}}$$"
   ]
  },
  {
   "cell_type": "code",
   "execution_count": 328,
   "metadata": {},
   "outputs": [
    {
     "data": {
      "text/plain": [
       "array([-0.2,  0.5,  0.5])"
      ]
     },
     "execution_count": 328,
     "metadata": {},
     "output_type": "execute_result"
    }
   ],
   "source": [
    "def dSSE(Y, Y_pred):\n",
    "    return Y_pred - Y\n",
    "\n",
    "Y = np.array([1.2, 3.5, 6.7])\n",
    "Y_pred = np.array([1.0, 4, 7.2])\n",
    "\n",
    "#=====================================================================\n",
    "# TEST UNITAIRE\n",
    "#=====================================================================\n",
    "# Resultat : \n",
    "# array([-0.2,  0.5,  0.5])\n",
    "#---------------------------------------------------------------------\n",
    "\n",
    "dSSE(Y, Y_pred)"
   ]
  },
  {
   "cell_type": "markdown",
   "metadata": {},
   "source": [
    "#### I.2.2 Fonction du coût (Classification)\n",
    "\n",
    "Pour la classification (dans ce cas binaire), nous allons utiliser l'inverse du log de vraisemblance (negative log-likelihood). Elle est définie comme il suit\n",
    "$$NLL = l(y_i,p_i) = -\\text{ }(\\text{ }y_i \\log(p_i) + (1-y_i) \\log(1-p_i)\\text{ })$$\n",
    "Note: $p_i$ est la probabilité prédite par le modèle. Une valeur proche de 0 signifie que le modèle classe l'individu à la classe négative et une valeur proche de 1 signifie que le modèle classe l'individu à la classe positive."
   ]
  },
  {
   "cell_type": "code",
   "execution_count": 329,
   "metadata": {},
   "outputs": [
    {
     "data": {
      "text/plain": [
       "array([0.35667494, 0.22314355, 0.22314355])"
      ]
     },
     "execution_count": 329,
     "metadata": {},
     "output_type": "execute_result"
    }
   ],
   "source": [
    "def NLL(Y, Y_pred):\n",
    "    return - (Y * np.log(Y_pred) + (1 - Y) * np.log(1 - Y_pred))\n",
    "\n",
    "Y = np.array([1, 0, 1])\n",
    "Y_pred = np.array([0.7, 0.2, 0.8])\n",
    "\n",
    "#=====================================================================\n",
    "# TEST UNITAIRE\n",
    "#=====================================================================\n",
    "# Resultat : \n",
    "# array([0.35667494, 0.22314355, 0.22314355])\n",
    "#---------------------------------------------------------------------\n",
    "\n",
    "NLL(Y, Y_pred)"
   ]
  },
  {
   "cell_type": "markdown",
   "metadata": {},
   "source": [
    "Ensuite on calcule la dérivée de cette fonction de coût par rapport au log de chance de gain (log of odds). Cela nous permettra de trouver la prédiction qui minimise la fonction coût. On rappele que la chance de gain (odds) d'un évènement de propababilité $p$ est définie par:\n",
    "$$odds = \\frac{p}{1 - p}$$\n",
    "$$\\log(odds) = \\log(\\frac{p}{1 - p})$$\n",
    "Dériver par rapport au $\\log(odds)$ est aussi un choix minutieux pour réduire et faciliter les calculs pour le modèle. Il est permis de faire ce choix car il y a une relation directe entre le $\\log(odds)$ et la probabilité $p$. En effet, On peut récupérer la probalité $p$ depuis $\\log(odds)$ ainsi:\n",
    "$$p = \\frac{e^{\\log(odds)}}{1 + e^{\\log(odds)}}$$"
   ]
  },
  {
   "cell_type": "code",
   "execution_count": 330,
   "metadata": {},
   "outputs": [
    {
     "data": {
      "text/plain": [
       "(0.708185057924486, 0.67)"
      ]
     },
     "execution_count": 330,
     "metadata": {},
     "output_type": "execute_result"
    }
   ],
   "source": [
    "def p_to_log_odds(p):\n",
    "    return np.log(p / (1-p))\n",
    "\n",
    "def log_odds_to_p(log_odds):\n",
    "    return np.exp(log_odds) / (1 + np.exp(log_odds))\n",
    "\n",
    "#=====================================================================\n",
    "# TEST UNITAIRE\n",
    "#=====================================================================\n",
    "# Resultat : \n",
    "# (0.708185057924486, 0.67)\n",
    "#---------------------------------------------------------------------\n",
    "\n",
    "p_to_log_odds(0.67), log_odds_to_p(0.708185057924486)"
   ]
  },
  {
   "cell_type": "markdown",
   "metadata": {},
   "source": [
    "Calculons maintenant la dérivée par rapport au $\\log(odds)$:\n",
    "$$\\frac{\\partial NLL}{\\partial \\log(odds)} = \\frac{\\partial}{\\partial \\log(odds)} -(\\text{ }y_i \\log(p_i) + (1-y_i) \\log(1-p_i)\\text{ })$$\n",
    "$$\\frac{\\partial NLL}{\\partial \\log(odds)} = \\frac{\\partial}{\\partial \\log(odds)} -y_i \\log(p_i) + y_i \\log(1-p_i) - \\log(1-p_i)$$\n",
    "$$\\frac{\\partial NLL}{\\partial \\log(odds)} = \\frac{\\partial}{\\partial \\log(odds)} -y_i (\\log(p_i) - \\log(1-p_i)) - \\log(1-p_i)$$\n",
    "$$\\frac{\\partial NLL}{\\partial \\log(odds)} = \\frac{\\partial}{\\partial \\log(odds)} -y_i \\log(\\frac{p_i}{1-p_i}) - \\log(1-p_i)$$\n",
    "$$\\frac{\\partial NLL}{\\partial \\log(odds)} = \\frac{\\partial}{\\partial \\log(odds)} -y_i \\log(odds) - \\log(1-p_i)$$\n",
    "On a:\n",
    "$$\\log(1-p_i) = \\log(1 - \\frac{e^{\\log(odds)}}{1 + e^{\\log(odds)}}) = \\log(\\frac{1 + e^{\\log(odds)}}{1 + e^{\\log(odds)}} - \\frac{e^{\\log(odds)}}{1 + e^{\\log(odds)}}) = \\log(\\frac{1}{1 + e^{\\log(odds)}})$$\n",
    "$$\\log(1-p_i) = -\\log(1 + e^{\\log(odds)})$$\n",
    "Et donc:\n",
    "$$\\frac{\\partial NLL}{\\partial \\log(odds)} = \\frac{\\partial}{\\partial \\log(odds)} -y_i \\log(odds) + \\log(1 + e^{\\log(odds)})$$\n",
    "$$\\frac{\\partial NLL}{\\partial \\log(odds)} = -y_i + \\frac{e^{\\log(odds)}}{1 + e^{\\log(odds)}}$$\n",
    "$$\\frac{\\partial NLL}{\\partial \\log(odds)} = p_i - y_i$$\n",
    "Note: La valeur $y_i - p_i$ est aussi appelée le résidu $r_{ik}$ où $k$ représente le numéro de l'itération. Donc on a:\n",
    "$$r_{ik} = - \\frac{\\partial NLL}{\\partial \\log(odds)}$$"
   ]
  },
  {
   "cell_type": "code",
   "execution_count": 331,
   "metadata": {},
   "outputs": [
    {
     "data": {
      "text/plain": [
       "array([-0.3,  0.2, -0.2])"
      ]
     },
     "execution_count": 331,
     "metadata": {},
     "output_type": "execute_result"
    }
   ],
   "source": [
    "def dNLL(Y, Y_pred):\n",
    "    return Y_pred - Y\n",
    "\n",
    "Y = np.array([1, 0, 1])\n",
    "Y_pred = np.array([0.7, 0.2, 0.8])\n",
    "\n",
    "#=====================================================================\n",
    "# TEST UNITAIRE\n",
    "#=====================================================================\n",
    "# Resultat : \n",
    "# array([-0.3,  0.2, -0.2])\n",
    "#---------------------------------------------------------------------\n",
    "\n",
    "dNLL(Y, Y_pred)"
   ]
  },
  {
   "cell_type": "markdown",
   "metadata": {},
   "source": [
    "### I.3 Constuction des arbres uniques de régression (Arbres XGBOOST)\n",
    "\n",
    "La fonction de prédiction du modèle XGBOOST dépend des arbres de régression construit lors de l'entrainement. Ces arbres sont des arbres spéciaux appelés des arbres uniques (ou arbres XGBOOST) qui servent à prédir des résidus ($r_{ik}$). En additionnant leurs résultats multipliés par un taux d'apprentissage et ajouté à la prédiction initiale, cela nous donne la prédiction finale du modèle (gradient tree boosting)."
   ]
  },
  {
   "cell_type": "markdown",
   "metadata": {},
   "source": [
    "#### I.3.1 Fonction de coût de l'arbre\n",
    "\n",
    "Pendant la construction l'arbre, il faudrait minimiser une certaine fonction de coût (loss function). Son équation est donnée ci-dessous:\n",
    "$$L^{(k)} = \\sum\\limits_{i=1}\\limits^{n} l(y_i,\\hat{y_i}^{(k-1)}+f_k(x_i)) + \\Omega(f_k)$$\n",
    "$$L^{(k)} = \\sum\\limits_{i=1}\\limits^{n} l(y_i,\\hat{y_i}^{(k)}) + \\Omega(f_k)$$\n",
    "où\n",
    "- $y_i$ est la sortie réelle pour l'individu $i$\n",
    "- $\\hat{y_i}^{(k)}$ est la prédiction pour l'individu $i$ faite par le modèle à l'itération **$k$**\n",
    "- $f_k$ est la fonction qui donne pour tout individu $x_i$ le résultat de l'arbre construit à l'itération $k$\n",
    "- $l(y_i,\\hat{y_i})$ est la fonction de coût (SSE ou NLL dans notre cas)\n",
    "- $\\Omega(f_k)$ est un terme de régulation qui pénalise la complexité du modèle. Il est donné comme il suit:\n",
    "$$\\Omega(f_k) = \\gamma T + \\frac{1}{2} \\lambda \\sum\\limits_{j=1}\\limits^{T} w_j^2$$\n",
    "où\n",
    "- $T$ est le nombre de feuilles dans l'arbre\n",
    "- $w_j$ est le poids de la feuille $j$ dans l'arbre (le calcul de ce poids sera détaillé juste après)\n",
    "- $\\gamma$ est un hyper-paramètre de régularisation, il définit la réduction minimale du coût pour réaliser une partition supplémentaire sur une feuille de l'arbre. Par défaut à 0, une plus grande valeur rend le modèle plus conservatif.\n",
    "- $\\lambda$ est un hyper-paramètre de régularisation L2 sur les poids des feuilles. Par défaut à 1, une plus grande valeur rend le modèle plus conservatif."
   ]
  },
  {
   "cell_type": "code",
   "execution_count": 332,
   "metadata": {},
   "outputs": [
    {
     "data": {
      "text/plain": [
       "(1.8449999999999989, 1.03, 2.874999999999999)"
      ]
     },
     "execution_count": 332,
     "metadata": {},
     "output_type": "execute_result"
    }
   ],
   "source": [
    "# Fonction de coût sans le terme de régularisation\n",
    "def Lk_sans_reg(Y, Y_pred, loss=SSE):\n",
    "    return np.sum(loss(Y, Y_pred))\n",
    "\n",
    "# Terme de régularisation\n",
    "def reg(W, reg_lambda=1, reg_gamma=0, T=32):\n",
    "    return reg_gamma * T + (1/2) * reg_lambda * np.sum(np.square(W))\n",
    "\n",
    "# Fonction de coût complète\n",
    "def Lk(Y, Y_pred, W, loss=SSE, reg_lambda=1, reg_gamma=0, T=32):\n",
    "    return Lk_sans_reg(Y, Y_pred, loss) + reg(W, reg_lambda, reg_gamma, T)\n",
    "\n",
    "\n",
    "Y = np.array([2.2, 8.7])\n",
    "Y_pred = np.array([1.0, 7.2])\n",
    "\n",
    "W = np.array([0.2, 0.3, -0.8, 0.7])\n",
    "\n",
    "#=====================================================================\n",
    "# TEST UNITAIRE\n",
    "#=====================================================================\n",
    "# Resultat : \n",
    "# (1.8449999999999989, 1.03, 2.874999999999999)\n",
    "#---------------------------------------------------------------------\n",
    "\n",
    "Lk_sans_reg(Y, Y_pred, loss=SSE), reg(W, reg_lambda=1, reg_gamma=0.1, T=4), Lk(Y, Y_pred, W, loss=SSE, reg_lambda=1, reg_gamma=0.1, T=4)"
   ]
  },
  {
   "cell_type": "markdown",
   "metadata": {},
   "source": [
    "#### I.3.2 Approximation de la fonction coût de l'arbre\n",
    "\n",
    "Maintenant que la fonction de coût est bien définie, nous pouvons trouver chaque sortie optimale $f_k(x_i)$ qui minimise le plus la fonction de coût. Celà nécessitera le calcul de dérivée de la fonction coût. Pour optimiser les calculs, le modèle XGBOOST approche le fonction coût par son polynôme de Taylor de second degré:\n",
    "$$l(y_i,\\hat{y_i}^{(k-1)}+f_k(x_i)) \\approx l(y_i,\\hat{y_i}^{(k-1)}) + \\frac{\\partial l(y_i,\\hat{y_i}^{(k-1)})}{\\partial \\hat{y_i}^{(k-1)}} f_k(x_i) + \\frac{1}{2} \\frac{\\partial^2 l(y_i,\\hat{y_i}^{(k-1)})}{\\partial \\hat{y_i}^{(k-1)2}} f_k(x_i)^2$$\n",
    "Et donc\n",
    "$$L^{(k)} \\approx \\sum\\limits_{i=1}\\limits^{n} [\\text{ } l(y_i,\\hat{y_i}^{(k-1)}) + \\frac{\\partial l(y_i,\\hat{y_i}^{(k-1)})}{\\partial \\hat{y_i}^{(k-1)}} f_k(x_i) + \\frac{1}{2} \\frac{\\partial^2 l(y_i,\\hat{y_i}^{(k-1)})}{\\partial \\hat{y_i}^{(k-1)2}} f_k(x_i)^2\\text{ }] + \\Omega(f_k)$$\n",
    "$$L^{(k)} \\approx \\sum\\limits_{i=1}\\limits^{n} [\\text{ } l(y_i,\\hat{y_i}^{(k-1)}) + g_i f_k(x_i) + \\frac{1}{2}h_i f_k(x_i)^2\\text{ }] + \\Omega(f_k)$$\n",
    "où\n",
    "- $g_i$ est la dérivée de la fonction coût par rapport à la prédiction précédente ($\\frac{\\partial l(y_i,\\hat{y_i}^{(k-1)})}{\\partial \\hat{y_i}^{(k-1)}}$)\n",
    "- $h_i$ est la seconde dérivée de la fonction coût par rapport à la prédiction précédente ($\\frac{\\partial^2 l(y_i,\\hat{y_i}^{(k-1)})}{\\partial \\hat{y_i}^{(k-1)2}}$)"
   ]
  },
  {
   "cell_type": "markdown",
   "metadata": {},
   "source": [
    "#### I.3.3 Quality Score et Poids des feuilles\n",
    "Définisons plus explicitement la fonction $f_k$, cette fonction nous donne le résultat renvoyé par l'arbre pour un individu avec ses caractéristiques. Ce résultat sera égal au poids d'une des feuilles ($w_j$) de la façon suivante:\n",
    "$$\\hat{y_i}^{(k)} = \\hat{y_i}^{(k-1)} + f_k(x_i)$$\n",
    "$$r_{ik} = y_i - \\hat{y_i}^{(k)}$$\n",
    "$$\\text{Si } r_{ik} \\in I_j \\text{ tel que } I_j \\text{ est l'ensemble des résidus se trouvant dans la feuille } j$$\n",
    "$$\\text{Donc } f_k(x_i) = w_j$$\n",
    "où $w_j$ est le poids de la feuille $j$"
   ]
  },
  {
   "cell_type": "markdown",
   "metadata": {},
   "source": [
    "On peut considérer maintenant une nouvelle fonction de coût approximative pour l'arbre, où on peut omettre le terme $l(y_i,\\hat{y_i}^{(k-1)})$ qui ne représente que le coût de la précédente prédiction qui n'a pas besoin d'être minimisé dans la courante itération. Donc on a maintenant:\n",
    "\n",
    "$$\\tilde{L}^{(k)} = \\sum\\limits_{i=1}\\limits^{n} [\\text{ } g_i f_k(x_i) + \\frac{1}{2}h_i f_k(x_i)^2\\text{ }] + \\gamma T + \\frac{1}{2} \\lambda \\sum\\limits_{j=1}\\limits^{T} w_j^2$$\n",
    "$$\\tilde{L}^{(k)} = \\sum\\limits_{j=1}\\limits^{T} [\\text{ } (\\sum\\limits_{r_{ik} \\in I_j}g_i) w_j + \\frac{1}{2}(\\sum\\limits_{r_{ik} \\in I_j}h_i + \\lambda) w_j^2\\text{ }] + \\gamma T$$\n",
    "En résolvant l'équation $\\frac{\\partial \\tilde{L}^{(k)}}{\\partial w_j} = 0$ On obtient:\n",
    "$$w_j^* = -\\frac{\\sum\\limits_{r_{ik} \\in I_j}g_i}{\\sum\\limits_{r_{ik} \\in I_j}h_i + \\lambda}$$\n",
    "$$\\tilde{L}^{(k)}(w_j^*) = -\\frac{1}{2} \\sum\\limits_{j=1}\\limits^{T} \\frac{(\\sum\\limits_{r_{ik} \\in I_j}g_i)^2}{\\sum\\limits_{r_{ik} \\in I_j}h_i + \\lambda} + \\gamma T$$\n",
    "$$Q_j = \\frac{1}{2} \\frac{(\\sum\\limits_{r_{ik} \\in I_j}g_i)^2}{\\sum\\limits_{r_{ik} \\in I_j}h_i + \\lambda} - \\gamma$$\n",
    "où\n",
    "- $w_j^*$ est le poids optimal de la feuille\n",
    "- $\\tilde{L}^{(k)}(w_j^*)$ est le coût minimal pour l'arbre\n",
    "- $Q_j$ est appelée score de qualité ou similarité (Quality or Similarity Score). Puisque elle est inversement proportionelle au coût, le but est de la maximiser.\n",
    "- Remarque: le coût de l'arbre n'est que la somme des opposés des scores de qualité. C'est à dire: $\\tilde{L}^{(k)}(w_j^*) = \\sum\\limits_{j=1}\\limits^{T} - Q_j$"
   ]
  },
  {
   "cell_type": "code",
   "execution_count": 333,
   "metadata": {},
   "outputs": [
    {
     "data": {
      "text/plain": [
       "185.79512195121956"
      ]
     },
     "execution_count": 333,
     "metadata": {},
     "output_type": "execute_result"
    }
   ],
   "source": [
    "# calcule le score de qualité (similiraté)\n",
    "def calculer_score(gs:np.ndarray, hs:np.ndarray, reg_lambda=1, reg_gamma=0):\n",
    "    if gs.size > 0 and hs.size > 0:\n",
    "        return ((1/2) * (np.sum(gs))**2 / (np.sum(hs) + reg_lambda)) - reg_gamma\n",
    "    else:\n",
    "        return 0\n",
    "\n",
    "# On a maintenant toutes les informations pour créer un noeud de l'arbre\n",
    "# On définit une classe abstraite pour représenter un noeud en général\n",
    "# En réalité, cette classe représentera aussi toutes les feuilles (des noeuds qui ne sont ni NoeudCat ni NoeudNum)\n",
    "class Noeud:\n",
    "\n",
    "    nbr = 0\n",
    "    indent = '\\t'\n",
    "\n",
    "    def __init__(self, profondeur:int, num:int=None, val=None):\n",
    "        self.num = num # le numéro du caractéristique de division dans X\n",
    "        self.qs = 0 # le quality score pour le noeud\n",
    "        self.pr = profondeur # la profondeur du noeud\n",
    "        self.val = val # valeur du noeud\n",
    "        self.fils = {} # les fils du noeud\n",
    "        self.indices = np.array([]) # indices (i) des individus se classant dans le noeud\n",
    "        self.res = np.array([]) # les résidus trouvés dans le noeud (applicable que pour les feuilles)\n",
    "        self.gs = np.array([]) # les dérivés gi de premier ordre du noeud (applicable que pour les feuilles)\n",
    "        self.hs = np.array([]) # les dérivés hi de second ordre du noeud (applicable que pour les feuilles)\n",
    "        self.w = 0 # poids du noeud (applicable que pour les feuilles)\n",
    "\n",
    "    def ajuster(self, indices:np.ndarray, gs:np.ndarray, hs:np.ndarray, reg_lambda=1, reg_gamma=0):\n",
    "        self.gs = gs\n",
    "        self.hs = hs\n",
    "        self.res = - gs\n",
    "        self.indices = indices\n",
    "        self.calculer_poids(reg_lambda)\n",
    "        self.qs = calculer_score(gs, hs, reg_lambda, reg_gamma)\n",
    "    \n",
    "    def copier(self, other):\n",
    "        self.gs = other.gs\n",
    "        self.hs = other.hs\n",
    "        self.res = other.res\n",
    "        self.indices = other.indices\n",
    "        self.w = other.w\n",
    "        self.qs = other.qs\n",
    "\n",
    "    # Cette fonction sert à transformer le noeud à un string\n",
    "    def __str__(self):\n",
    "        tmp_indent = Noeud.indent * self.pr # indentation : esthetique\n",
    "        \n",
    "        # Un noeud simple (non dérivé) n'affiche que son poids\n",
    "        return tmp_indent + f'W = {self.w}\\n'\n",
    "\n",
    "    # predire un échantillon\n",
    "    def predire(self, x: list):\n",
    "        # Un noeud simple (non dérivé) ne retourne que son poids\n",
    "        return self.w\n",
    "\n",
    "    # générer un code pour graphviz\n",
    "    def graphviz(self):\n",
    "        nid = 'N' + str(Noeud.nbr)\n",
    "        Noeud.nbr += 1\n",
    "        \n",
    "        # Un noeud simple (non dérivé) n'affiche que son poids\n",
    "        return nid, nid + '[label=\"' + str(self.w) + '\" shape=ellipse];\\n'\n",
    "\n",
    "    # calcule le poids d'un noeud\n",
    "    def calculer_poids(self, reg_lambda=1):\n",
    "        if self.gs.size > 0 and self.hs.size > 0:\n",
    "            self.w = - (np.sum(self.gs)) / (np.sum(self.hs) + reg_lambda)\n",
    "        else:\n",
    "            self.w = 0\n",
    "\n",
    "# On définit un noeud qu'on appelle NoeudCat pour gérer les données qualitatives, cette classe héritera de la classe Noeud\n",
    "class NoeudCat(Noeud):\n",
    "    # Cette fonction sert à transformer le noeud à un string\n",
    "    def __str__(self):\n",
    "        tmp_indent = Noeud.indent * self.pr # indentation : esthetique\n",
    "        \n",
    "        # s'il n'y a pas de fils, le noeud est terminal ; on imprime la classe\n",
    "        if (len(self.fils)==0):\n",
    "            return tmp_indent + f'W = {self.w}\\n'\n",
    "        \n",
    "        # s'il y a des fils, on boucle sur les fils et on imprime des SI ... ALORS\n",
    "        res = tmp_indent + 'Si X[' + str(self.num) + '] est \"' + str(self.val) \n",
    "        res += '\" Alors\\n' + str(self.fils['g'])\n",
    "        res += tmp_indent + 'Sinon\\n' + str(self.fils['d'])\n",
    "        return res\n",
    "\n",
    "    # predire un échantillon\n",
    "    def predire(self, x: list[str]):\n",
    "        # Si le noeud est final, il rend son poids\n",
    "        if (len(self.fils)==0):\n",
    "            return self.w\n",
    "        \n",
    "        # sinon\n",
    "        if x[self.num] == self.val:\n",
    "            return self.fils['g'].predire(x)\n",
    "        return self.fils['d'].predire(x)\n",
    "\n",
    "    # générer un code pour graphviz\n",
    "    def graphviz(self):\n",
    "        nid = 'N' + str(Noeud.nbr)\n",
    "        Noeud.nbr += 1\n",
    "        \n",
    "        # Si le noeud est final, \n",
    "        if (len(self.fils)==0):\n",
    "            return nid, nid + '[label=\"' + str(self.w) + '\" shape=ellipse];\\n'\n",
    "        \n",
    "        # Sinon, \n",
    "        # s'il y a des fils, on boucle sur les fils et on imprime des SI ... ALORS\n",
    "        prefix = '] = '\n",
    "        res  = nid + '[label=\"X[' + str(self.num) + prefix + str(self.val) + '\\\\n'\n",
    "        res += 'QS = ' + str(self.qs) + '\"];\\n'\n",
    "        vid_G, code_G = self.fils['g'].graphviz()\n",
    "        vid_D, code_D = self.fils['d'].graphviz()\n",
    "        \n",
    "        res += code_G + code_D\n",
    "        res += nid + ' -> ' + vid_G + ' [label=\"Vrai\"];\\n'\n",
    "        res += nid + ' -> ' + vid_D + ' [label=\"Faux\"];\\n'\n",
    "        return nid, res\n",
    "    \n",
    "# On définit un noeud qu'on appelle NoeudNum pour gérer les données quantitatives, cette classe héritera de la classe Noeud\n",
    "class NoeudNum(Noeud):\n",
    "    # Cette fonction sert à transformer le noeud à un string\n",
    "    def __str__(self):\n",
    "\n",
    "        tmp_indent = self.indent * self.pr # indentation : esthetique\n",
    "        \n",
    "        # s'il n'y a pas de fils, le noeud est terminal ; on imprime la classe\n",
    "        if (len(self.fils)==0):\n",
    "            return tmp_indent + f'W = {self.w}\\n'\n",
    "         \n",
    "        prefix = ' < '\n",
    "        suffix = ''\n",
    "        \n",
    "        # s'il y a des fils, on boucle sur les fils et on imprime des SI ... ALORS SINON\n",
    "        res  = ''\n",
    "        res += tmp_indent + 'Si X[' + str(self.num) + ']' + prefix + str(self.val) + suffix \n",
    "        res += ' Alors\\n' + str(self.fils['g'])\n",
    "        res += tmp_indent + 'Sinon\\n' + str(self.fils['d'])\n",
    "        return res\n",
    "\n",
    "    # predire un échantillon\n",
    "    def predire(self, x: list):\n",
    "        # Si le noeud est final, il rend son poids\n",
    "        if (len(self.fils)==0):\n",
    "            return self.w\n",
    "        \n",
    "        # sinon\n",
    "        if x[self.num] < self.val:\n",
    "            return self.fils['g'].predire(x)\n",
    "        return self.fils['d'].predire(x)\n",
    "\n",
    "    # générer un code pour graphviz\n",
    "    def graphviz(self):\n",
    "        nid = 'N' + str(Noeud.nbr)\n",
    "        Noeud.nbr += 1\n",
    "        \n",
    "        # Si le noeud est final, \n",
    "        if (len(self.fils)==0):\n",
    "            return nid, nid + '[label=\"' + str(self.w) + '\" shape=ellipse];\\n'\n",
    "        \n",
    "        # Sinon, \n",
    "        # s'il y a des fils, on boucle sur les fils et on imprime des SI ... ALORS\n",
    "        prefix = '] < '\n",
    "        res = nid + '[label=\"X[' + str(self.num) + prefix + str(self.val) + '\\\\n'\n",
    "        res += 'QS = ' + str(self.qs) + '\"];\\n'\n",
    "        vid_G, code_G = self.fils['g'].graphviz()\n",
    "        vid_D, code_D = self.fils['d'].graphviz()\n",
    "        \n",
    "        res += code_G + code_D\n",
    "        res += nid + ' -> ' + vid_G + ' [label=\"Vrai\"];\\n'\n",
    "        res += nid + ' -> ' + vid_D + ' [label=\"Faux\"];\\n'\n",
    "        return nid, res\n",
    "    \n",
    "gs = np.array([10.7, -2.5, 4.3, 15.1])\n",
    "hs = np.array([0.25, 0.1, 0.3, 0.4])\n",
    "\n",
    "#=====================================================================\n",
    "# TEST UNITAIRE\n",
    "#=====================================================================\n",
    "# Resultat : \n",
    "# 185.79512195121956\n",
    "#---------------------------------------------------------------------\n",
    "\n",
    "calculer_score(gs, hs)"
   ]
  },
  {
   "cell_type": "markdown",
   "metadata": {},
   "source": [
    "Puisque nous allons avoir besoin des dérivés de second ordre (hessiennes), nous les calculons pour les deux fonctions de coût (loss functions) précédemment définies (SSE et NLL).\n",
    "$$\\frac{\\partial SSE}{\\partial \\hat{y_i}} = \\hat{y_i} - y_i \\Longleftrightarrow \\frac{\\partial^2 SSE}{\\partial \\hat{y_i}^2} = 1$$\n",
    "$$\\frac{\\partial NLL}{\\partial \\log(odds)} = -y_i + \\frac{e^{\\log(odds)}}{1 + e^{\\log(odds)}} \\Longleftrightarrow \\frac{\\partial^2 NLL}{\\partial \\log(odds)^2} = \\frac{e^{\\log(odds)}}{(1 + e^{\\log(odds)})^2}$$\n",
    "$$\\Longleftrightarrow \\frac{\\partial^2 NLL}{\\partial \\log(odds)^2} = \\frac{e^{\\log(odds)}}{(1 + e^{\\log(odds)})} \\frac{1}{(1 + e^{\\log(odds)})} = p_i (1-p_i)$$"
   ]
  },
  {
   "cell_type": "code",
   "execution_count": 334,
   "metadata": {},
   "outputs": [
    {
     "data": {
      "text/plain": [
       "(array([1., 1., 1.]), array([0.21, 0.16, 0.16]))"
      ]
     },
     "execution_count": 334,
     "metadata": {},
     "output_type": "execute_result"
    }
   ],
   "source": [
    "def hSSE(Y, Y_pred):\n",
    "    return np.ones(Y_pred.size)\n",
    "\n",
    "def hNLL(Y, Y_pred):\n",
    "    return Y_pred * (1-Y_pred)\n",
    "\n",
    "Y = np.array([1, 0, 1])\n",
    "Y_pred = np.array([0.7, 0.2, 0.8])\n",
    "\n",
    "#=====================================================================\n",
    "# TEST UNITAIRE\n",
    "#=====================================================================\n",
    "# Resultat : \n",
    "# (array([1., 1., 1.]), array([0.21, 0.16, 0.16]))\n",
    "#---------------------------------------------------------------------\n",
    "\n",
    "hSSE(Y, Y_pred), hNLL(Y, Y_pred)"
   ]
  },
  {
   "cell_type": "markdown",
   "metadata": {},
   "source": [
    "#### I.3.4 Choix des caractéristiques\n",
    "Pour choisir les caractéristiques ou les valeurs à comparer aux caractéristiques (quantiles) pour chaque noeud on calcule le gain en score. Ce gain est calculé comme il suit:\n",
    "$$gain = Q_g + Q_d - Q_r$$\n",
    "où\n",
    "- $Q_r$ représente le score de qualité au noeud courant\n",
    "- $Q_g$ représente le score de qualité au fils gauche\n",
    "- $Q_d$ représente le score de qualité au fils droit"
   ]
  },
  {
   "cell_type": "markdown",
   "metadata": {},
   "source": [
    "De plus, pour déterminer l'ensemble des quantiles pour les caractéristiques quantitatives (supposant que c'est l'utilisateur qui choisit le nombre des quantiles), XGBOOST utilise le principe des quantiles pondérés (Weighted Quantile Sketch), qui consiste à affecter à chaque individu un poids ($w_i$). Les intervalles créés par les quantiles choisis ont la même somme des poids de leurs individus.\n",
    "$$w_i^{(k)} = \\begin{cases}\n",
    "1 & \\text{pour la régression}\\\\\n",
    "p_i^{(k-1)} (1-p_i^{(k-1)}) & \\text{pour la classification}\n",
    "\\end{cases}\n",
    "$$\n",
    "$$\\text{où } p_i^{(k-1)} \\text{ représente la probabilité pour l'individu }i\\text{ à l'itération précédente}$$"
   ]
  },
  {
   "cell_type": "code",
   "execution_count": 335,
   "metadata": {},
   "outputs": [
    {
     "data": {
      "text/plain": [
       "array([1.6, 3.2, 4.5, 7. ])"
      ]
     },
     "execution_count": 335,
     "metadata": {},
     "output_type": "execute_result"
    }
   ],
   "source": [
    "# fonction qui divise une colonne quantitative en utilisant le Weighted Quantile Sketch. Le résultat serait une liste de quantiles.\n",
    "# Remarque: la colonne Xj doit être ordonnée et W (le vecteur de poids des individus doit suivre le même ordre)\n",
    "# n: représente le nombre quantile à générer (dans la littérature XGBOOST génère par défaut 33 quantiles)\n",
    "def diviser_quantiles(Xj:np.ndarray, W:np.ndarray, n=33):\n",
    "    ind_sorted = Xj.argsort() # récupérer les indices ordonnés dans l'ordre croissant\n",
    "    r = [] # Résultats\n",
    "    d = np.sum(W)/n # Critère de division\n",
    "    W_cum = np.cumsum(W[ind_sorted])\n",
    "\n",
    "    mask = None\n",
    "    for i in range(n):\n",
    "        if i == n-1: # dans le cas où la dernière est exactement à la limite on la prend dans le dernier intervalle\n",
    "            mask = (W_cum >= i*d) & (W_cum <= (i+1)*d)\n",
    "        else:\n",
    "            mask = (W_cum >= i*d) & (W_cum < (i+1)*d)\n",
    "            \n",
    "        if len(Xj[ind_sorted][mask]) > 0:\n",
    "            r.append(np.max(Xj[ind_sorted][mask]))\n",
    "            \n",
    "    return np.array(r)\n",
    "\n",
    "Xj = np.array([3.2, 1.2, 1.6, 4.5, 5.5, 5.6, 7])\n",
    "W = np.array([0.2, 0.2, 0.3, 0.5, 0.5, 0.1, 0.3])\n",
    "\n",
    "#=====================================================================\n",
    "# TEST UNITAIRE\n",
    "#=====================================================================\n",
    "# Resultat : \n",
    "# array([1.6, 3.2, 4.5, 7. ])\n",
    "#---------------------------------------------------------------------\n",
    "\n",
    "diviser_quantiles(Xj, W, n=4)"
   ]
  },
  {
   "cell_type": "markdown",
   "metadata": {},
   "source": [
    "#### I.3.5 Regrouper le tout"
   ]
  },
  {
   "cell_type": "code",
   "execution_count": 336,
   "metadata": {},
   "outputs": [],
   "source": [
    "class XGBTree:\n",
    "    # Initialiser l'arbre\n",
    "    def __init__(self, prev_pred, cls=False, max_depth=6, reg_lambda=1, reg_gamma=0):\n",
    "        self.cls = cls # est à Vrai, si c'est une classification, 0 sinon (régression)\n",
    "        if cls:\n",
    "            self.loss = NLL # fonction du coût\n",
    "            self.dloss = dNLL # dérivée de la fonction du coût\n",
    "            self.hloss = hNLL # seconde dérivée de la fonction du coût\n",
    "            self.prev_pred = p_to_log_odds(prev_pred) # log(odds)\n",
    "        else:\n",
    "            self.loss = SSE # fonction du coût\n",
    "            self.dloss = dSSE # dérivée de la fonction du coût\n",
    "            self.hloss = hSSE # seconde dérivée de la fonction du coût\n",
    "            self.prev_pred = prev_pred # précédente prédiction\n",
    "\n",
    "        self.reg_lambda = reg_lambda # hyper-paramètre de régularisation\n",
    "        self.reg_gamma = reg_gamma # hyper-paramètre de régularisation\n",
    "        self.W_feuilles = [] # poids des feuilles, cet attribut sera utile pour calculer le coût régularisé du modèle\n",
    "        self.max_depth = max_depth # hyper-paramètre qui limite la profondeur maximale de l'arbre\n",
    "        \n",
    "\n",
    "    # Pour un noeud donné et une caractéristique qualitative donnée choisir la modalité qui minimise le mieux le coût\n",
    "    def choisir_valeur_cat(self, Xj:np.ndarray, Y:np.ndarray, Y_pred: np.ndarray, qs_past: float):\n",
    "        s = np.unique(Xj)\n",
    "        max_gain = -1\n",
    "        gs_g_result = np.array([])\n",
    "        hs_g_result = np.array([])\n",
    "        gs_d_result = np.array([])\n",
    "        hs_d_result = np.array([])\n",
    "        mask_result = np.array([])\n",
    "        val = None\n",
    "        for sk in s:\n",
    "            mask = Xj == sk\n",
    "            gs_g = self.dloss(Y[mask], Y_pred[mask])\n",
    "            hs_g = self.hloss(Y[mask], Y_pred[mask])\n",
    "            gs_d = self.dloss(Y[~mask], Y_pred[~mask])\n",
    "            hs_d = self.hloss(Y[~mask], Y_pred[~mask])\n",
    "            qs_g = calculer_score(gs_g, hs_g, self.reg_lambda, self.reg_gamma)\n",
    "            qs_d = calculer_score(gs_d, hs_d, self.reg_lambda, self.reg_gamma)\n",
    "            gain_qs = qs_g + qs_d - qs_past\n",
    "            if gain_qs > max_gain:\n",
    "                gs_g_result = gs_g\n",
    "                hs_g_result = hs_g\n",
    "                gs_d_result = gs_d\n",
    "                hs_d_result = hs_d\n",
    "                mask_result = mask\n",
    "                max_gain = gain_qs\n",
    "                val = sk\n",
    "\n",
    "        return gs_g_result, hs_g_result, gs_d_result, hs_d_result, mask_result, max_gain, val\n",
    "    \n",
    "    # Pour un noeud donné et une caractéristique quantitative donnée choisir le quantile qui minimise le mieux le coût\n",
    "    def choisir_valeur_num(self, Xj:np.ndarray, Y:np.ndarray, Y_pred: np.ndarray, qs_past: float, W:np.ndarray, n=33):\n",
    "        nb_quantiles = min(len(Xj), n)\n",
    "        s = diviser_quantiles(Xj, W, nb_quantiles)\n",
    "        max_gain = -1\n",
    "        gs_g_result = np.array([])\n",
    "        hs_g_result = np.array([])\n",
    "        gs_d_result = np.array([])\n",
    "        hs_d_result = np.array([])\n",
    "        mask_result = np.array([])\n",
    "        val = None\n",
    "        for sk in s:\n",
    "            mask = Xj < sk\n",
    "            gs_g = self.dloss(Y[mask], Y_pred[mask])\n",
    "            hs_g = self.hloss(Y[mask], Y_pred[mask])\n",
    "            gs_d = self.dloss(Y[~mask], Y_pred[~mask])\n",
    "            hs_d = self.hloss(Y[~mask], Y_pred[~mask])\n",
    "            qs_g = calculer_score(gs_g, hs_g, self.reg_lambda, self.reg_gamma)\n",
    "            qs_d = calculer_score(gs_d, hs_d, self.reg_lambda, self.reg_gamma)\n",
    "            gain_qs = qs_g + qs_d - qs_past\n",
    "            if gain_qs > max_gain:\n",
    "                gs_g_result = gs_g\n",
    "                hs_g_result = hs_g\n",
    "                gs_d_result = gs_d\n",
    "                hs_d_result = hs_d\n",
    "                mask_result = mask\n",
    "                max_gain = gain_qs\n",
    "                val = sk\n",
    "\n",
    "        return gs_g_result, hs_g_result, gs_d_result, hs_d_result, mask_result, max_gain, val\n",
    "    \n",
    "    # Pour un noeud donné la caractéristique qui minimise le mieux le coût\n",
    "    def choisir_meilleur_noeud(self, r:Noeud, X:pd.DataFrame, Y:np.ndarray, Y_pred:np.ndarray, W:np.ndarray, n=33):\n",
    "        max_gain = -1\n",
    "        categorical = False\n",
    "        gs_g_result = np.array([])\n",
    "        hs_g_result = np.array([])\n",
    "        gs_d_result = np.array([])\n",
    "        hs_d_result = np.array([])\n",
    "        mask_result = np.array([])\n",
    "        max_j = 0\n",
    "        max_val = None\n",
    "        for j in range(X.shape[1]):\n",
    "            if np.issubdtype(X.iloc[:,j].dtype, np.number):\n",
    "                gs_g, hs_g, gs_d, hs_d, mask, gain_qs, val = self.choisir_valeur_num(X.iloc[:,j].values, Y, Y_pred, r.qs, W, n)\n",
    "                if gain_qs > max_gain:\n",
    "                    gs_g_result = gs_g\n",
    "                    hs_g_result = hs_g\n",
    "                    gs_d_result = gs_d\n",
    "                    hs_d_result = hs_d\n",
    "                    max_gain = gain_qs\n",
    "                    mask_result = mask\n",
    "                    max_j = j\n",
    "                    max_val = val\n",
    "                    categorical = False\n",
    "            else:\n",
    "                gs_g, hs_g, gs_d, hs_d, mask, gain_qs, val = self.choisir_valeur_cat(X.iloc[:,j].values, Y, Y_pred, r.qs)\n",
    "                if gain_qs > max_gain:\n",
    "                    gs_g_result = gs_g\n",
    "                    hs_g_result = hs_g\n",
    "                    gs_d_result = gs_d\n",
    "                    hs_d_result = hs_d\n",
    "                    max_gain = gain_qs\n",
    "                    mask_result = mask\n",
    "                    max_j = j\n",
    "                    max_val = val\n",
    "                    categorical = True\n",
    "\n",
    "        # Si le masque est homogène, c'est une feuille\n",
    "        if np.all(mask_result) or np.all(~mask_result):\n",
    "            self.T += 1 # On incrémente le nombre de feuilles\n",
    "            self.W_feuilles.append(r.w) # On sauvegarde son poids\n",
    "            return r\n",
    "\n",
    "        # Créer le noeud de décision\n",
    "        noeud: Noeud = None\n",
    "        if categorical:\n",
    "            noeud = NoeudCat(profondeur=r.pr, num=max_j, val=max_val)\n",
    "        else:\n",
    "            noeud = NoeudNum(profondeur=r.pr, num=max_j, val=max_val)\n",
    "        noeud.copier(r)\n",
    "        \n",
    "        # Création du noeud gauche\n",
    "        noeud_g = Noeud(profondeur=r.pr+1)\n",
    "        noeud_g.ajuster(r.indices[mask_result], gs_g_result, hs_g_result, self.reg_lambda, self.reg_gamma)\n",
    "\n",
    "        # Création du noeud droit\n",
    "        noeud_d = Noeud(profondeur=r.pr+1)\n",
    "        noeud_d.ajuster(r.indices[~mask_result], gs_d_result, hs_d_result, self.reg_lambda, self.reg_gamma)\n",
    "\n",
    "        # Lier les noeuds\n",
    "        noeud.fils = {\n",
    "            'g': noeud_g,\n",
    "            'd': noeud_d\n",
    "        }\n",
    "\n",
    "        return noeud\n",
    "\n",
    "    # Entrainer récursivement l'arbre\n",
    "    def entrainer_recursive(self, r:Noeud, X:pd.DataFrame, Y:np.ndarray, n:int=33):\n",
    "        if r.res.size <= 1: # S'arrêter s'il n'y a qu'un résidu dans le noeud (c'est une feuille)\n",
    "            self.T += 1 # On incrémente le nombre de feuilles\n",
    "            self.W_feuilles.append(r.w) # On sauvegarde son poids\n",
    "            return r\n",
    "        \n",
    "        Y_pred = self.prev_pred[r.indices] + np.array([r.predire(X.iloc[r.indices[i],:].values) for i in range(len(r.indices))])\n",
    "        if self.cls:\n",
    "            Y_pred = log_odds_to_p(Y_pred) # Si on entraine une classification, transformer les log(odds) en probabilité pour les prédiction\n",
    "            self.W[r.indices] = Y_pred * (1-Y_pred) # Mettre à jour les poids des individus si c'est une classification\n",
    "\n",
    "        noeud = self.choisir_meilleur_noeud(r, X.iloc[r.indices], Y[r.indices], Y_pred, self.W[r.indices], n) # Choisir la partition qui maximise le quality score\n",
    "\n",
    "        # Si le noeud n'est pas une feuille et on est pas arrivé encore à la profondeur maximale\n",
    "        if len(noeud.fils) > 0 and noeud.pr + 1 < self.max_depth:\n",
    "            noeud.fils['g'] = self.entrainer_recursive(noeud.fils['g'], X, Y, n) # entrainer le fils gauche\n",
    "            noeud.fils['d'] = self.entrainer_recursive(noeud.fils['d'], X, Y, n) # entrainer le fils droit\n",
    "\n",
    "        return noeud\n",
    "\n",
    "    # Fonction générale d'entraînement\n",
    "    def entrainer(self, X:pd.DataFrame, Y:np.ndarray, X_noms:list[str] = [], Y_nom:str = '', n:int=33):\n",
    "        self.W = np.ones(X.shape[0]) # Initialiser les poids des individus à 1\n",
    "        self.T = 0 # Nombre de feuilles\n",
    "        \n",
    "        # Créer le premier noeud de l'arbre\n",
    "        initial_pred = self.prev_pred\n",
    "        if self.cls:\n",
    "            initial_pred = log_odds_to_p(self.prev_pred)\n",
    "\n",
    "        self.arbre = Noeud(profondeur=0)\n",
    "        self.arbre.ajuster(indices=np.arange(X.shape[0]),gs=self.dloss(Y, initial_pred), hs=self.hloss(Y, initial_pred), \n",
    "                           reg_lambda=self.reg_lambda, reg_gamma=self.reg_gamma)\n",
    "        \n",
    "        # Entrainer récursivement l'arbre depuis le premier noeud\n",
    "        self.arbre = self.entrainer_recursive(self.arbre, X, Y, n)\n",
    "\n",
    "        # Sauvegarder une représentation textuelle de l'arbre\n",
    "        code = str(self.arbre)\n",
    "        if len(Y_nom) > 0: \n",
    "            code = code.replace('Y', Y_nom)\n",
    "        for i in range(len(X_noms)): \n",
    "            code = code.replace('X[' + str(i) + ']', X_noms[i])\n",
    "        self.code   = code\n",
    "        self.X_noms = X_noms\n",
    "\n",
    "    # Fonction de prédiction de l'arbre (fk)\n",
    "    def predire(self, X:pd.DataFrame):\n",
    "        predictions = []\n",
    "        for i in range(X.shape[0]): \n",
    "            predictions.append(self.arbre.predire(X.iloc[i, :].values))\n",
    "        return np.array(predictions)\n",
    "    \n",
    "    # Fonction pour visualiser l'arbre sur GraphViz\n",
    "    def graphviz(self): \n",
    "        nid, code = self.arbre.graphviz()\n",
    "        res  = 'digraph Tree {\\n'\n",
    "        res += 'node [shape=box] ;'\n",
    "        for i in range(len(self.X_noms)): \n",
    "            code = code.replace('X[' + str(i) + ']', self.X_noms[i])\n",
    "        res += code\n",
    "        res += '}'\n",
    "        return res\n",
    "        "
   ]
  },
  {
   "cell_type": "code",
   "execution_count": 337,
   "metadata": {},
   "outputs": [
    {
     "name": "stdout",
     "output_type": "stream",
     "text": [
      "Si humidite est \"haute\" Alors\n",
      "\tSi temps est \"ensoleile\" Alors\n",
      "\t\tW = -0.8624903265431408\n",
      "\tSinon\n",
      "\t\tSi temperature < 22.5 Alors\n",
      "\t\t\tW = -0.6280343548612316\n",
      "\t\tSinon\n",
      "\t\t\tW = 0.4846766221832071\n",
      "Sinon\n",
      "\tSi temperature < 19.4 Alors\n",
      "\t\tSi temps est \"ensoleile\" Alors\n",
      "\t\t\tW = 0.36019312966087014\n",
      "\t\tSinon\n",
      "\t\t\tW = -0.44145432310328875\n",
      "\tSinon\n",
      "\t\tW = 0.6242637766020209\n",
      "\n",
      "L'arbre a 6 feuilles\n"
     ]
    }
   ],
   "source": [
    "# Le dataset \"jouer\".\n",
    "\n",
    "# temps, temperature, humidite, vent\n",
    "X_jouer = pd.DataFrame([\n",
    "    ['ensoleile', 35.1 , 'haute'  , 'non'],\n",
    "    ['ensoleile', 34.7 , 'haute'  , 'oui'],\n",
    "    ['nuageux'  , 33.2 , 'haute'  , 'non'],\n",
    "    ['pluvieux' , 24.2  , 'haute'  , 'non'],\n",
    "    ['pluvieux' , 20.2, 'normale', 'non'],\n",
    "    ['pluvieux' , 18.3, 'normale', 'oui'],\n",
    "    ['nuageux'  , 19.4, 'normale', 'oui'],\n",
    "    ['ensoleile', 23.6  , 'haute'  , 'non'],\n",
    "    ['ensoleile', 17.7, 'normale', 'non'],\n",
    "    ['pluvieux' , 25.6  , 'normale', 'non'],\n",
    "    ['ensoleile', 23.3  , 'normale', 'oui'],\n",
    "    ['nuageux'  , 22.5  , 'haute'  , 'oui'],\n",
    "    ['nuageux'  , 34.4 , 'normale', 'non'],\n",
    "    ['pluvieux' , 21.5  , 'haute'  , 'oui']\n",
    "])\n",
    "\n",
    "Y_jouer = np.array([0, 0, 1, 1, 1, 0, 1, \n",
    "                    0, 1, 1, 1, 1, 1, 0])\n",
    "\n",
    "prev_pred = np.repeat(np.mean(Y_jouer), Y_jouer.size)\n",
    "tree = XGBTree(prev_pred, cls=True)\n",
    "tree.entrainer(X_jouer, Y_jouer, X_noms=[\"temps\", \"temperature\", \"humidite\", \"vent\"], Y_nom=\"jouer\", n=4)\n",
    "\n",
    "#=====================================================================\n",
    "# TEST UNITAIRE\n",
    "#=====================================================================\n",
    "# Resultat : \n",
    "# Si humidite est \"haute\" Alors\n",
    "# \tSi temps est \"ensoleile\" Alors\n",
    "# \t\tW = -0.8624903265431408\n",
    "# \tSinon\n",
    "# \t\tSi temperature < 22.5 Alors\n",
    "# \t\t\tW = -0.6280343548612316\n",
    "# \t\tSinon\n",
    "# \t\t\tW = 0.4846766221832071\n",
    "# Sinon\n",
    "# \tSi temperature < 19.4 Alors\n",
    "# \t\tSi temps est \"ensoleile\" Alors\n",
    "# \t\t\tW = 0.36019312966087014\n",
    "# \t\tSinon\n",
    "# \t\t\tW = -0.44145432310328875\n",
    "# \tSinon\n",
    "# \t\tW = 0.6242637766020209\n",
    "#\n",
    "# L'arbre a 6 feuilles\n",
    "#---------------------------------------------------------------------\n",
    "\n",
    "print(tree.code)\n",
    "print(\"L'arbre a\", tree.T, \"feuilles\")"
   ]
  },
  {
   "cell_type": "code",
   "execution_count": 338,
   "metadata": {},
   "outputs": [
    {
     "name": "stdout",
     "output_type": "stream",
     "text": [
      "Requirement already satisfied: graphviz in c:\\users\\user\\appdata\\local\\programs\\python\\python311\\lib\\site-packages (0.20.1)Note: you may need to restart the kernel to use updated packages.\n",
      "\n"
     ]
    },
    {
     "name": "stderr",
     "output_type": "stream",
     "text": [
      "\n",
      "[notice] A new release of pip is available: 23.3.1 -> 23.3.2\n",
      "[notice] To update, run: python.exe -m pip install --upgrade pip\n"
     ]
    }
   ],
   "source": [
    "%pip install graphviz"
   ]
  },
  {
   "cell_type": "code",
   "execution_count": 339,
   "metadata": {},
   "outputs": [
    {
     "data": {
      "image/svg+xml": [
       "<svg xmlns=\"http://www.w3.org/2000/svg\" xmlns:xlink=\"http://www.w3.org/1999/xlink\" width=\"794pt\" height=\"311pt\" viewBox=\"0.00 0.00 793.88 311.00\">\n",
       "<g id=\"graph0\" class=\"graph\" transform=\"scale(1 1) rotate(0) translate(4 307)\">\n",
       "<title>Tree</title>\n",
       "<polygon fill=\"white\" stroke=\"transparent\" points=\"-4,4 -4,-307 789.88,-307 789.88,4 -4,4\"/>\n",
       "<!-- N0 -->\n",
       "<g id=\"node1\" class=\"node\">\n",
       "<title>N0</title>\n",
       "<polygon fill=\"none\" stroke=\"black\" points=\"479.49,-303 292.49,-303 292.49,-265 479.49,-265 479.49,-303\"/>\n",
       "<text text-anchor=\"middle\" x=\"385.99\" y=\"-287.8\" font-family=\"Times New Roman,serif\" font-size=\"14.00\">humidite = haute</text>\n",
       "<text text-anchor=\"middle\" x=\"385.99\" y=\"-272.8\" font-family=\"Times New Roman,serif\" font-size=\"14.00\">QS = 5.264643753063955e-32</text>\n",
       "</g>\n",
       "<!-- N1 -->\n",
       "<g id=\"node2\" class=\"node\">\n",
       "<title>N1</title>\n",
       "<polygon fill=\"none\" stroke=\"black\" points=\"372.99,-214 202.99,-214 202.99,-176 372.99,-176 372.99,-214\"/>\n",
       "<text text-anchor=\"middle\" x=\"287.99\" y=\"-198.8\" font-family=\"Times New Roman,serif\" font-size=\"14.00\">temps = ensoleile</text>\n",
       "<text text-anchor=\"middle\" x=\"287.99\" y=\"-183.8\" font-family=\"Times New Roman,serif\" font-size=\"14.00\">QS = 0.4315068493150687</text>\n",
       "</g>\n",
       "<!-- N0&#45;&gt;N1 -->\n",
       "<g id=\"edge9\" class=\"edge\">\n",
       "<title>N0-&gt;N1</title>\n",
       "<path fill=\"none\" stroke=\"black\" d=\"M365.69,-264.97C351.36,-252.26 331.99,-235.06 316.17,-221.02\"/>\n",
       "<polygon fill=\"black\" stroke=\"black\" points=\"318.07,-218.02 308.27,-214 313.43,-223.26 318.07,-218.02\"/>\n",
       "<text text-anchor=\"middle\" x=\"354.99\" y=\"-235.8\" font-family=\"Times New Roman,serif\" font-size=\"14.00\">Vrai</text>\n",
       "</g>\n",
       "<!-- N6 -->\n",
       "<g id=\"node7\" class=\"node\">\n",
       "<title>N6</title>\n",
       "<polygon fill=\"none\" stroke=\"black\" points=\"570.99,-214 400.99,-214 400.99,-176 570.99,-176 570.99,-214\"/>\n",
       "<text text-anchor=\"middle\" x=\"485.99\" y=\"-198.8\" font-family=\"Times New Roman,serif\" font-size=\"14.00\">temperature &lt; 19.4</text>\n",
       "<text text-anchor=\"middle\" x=\"485.99\" y=\"-183.8\" font-family=\"Times New Roman,serif\" font-size=\"14.00\">QS = 0.4315068493150683</text>\n",
       "</g>\n",
       "<!-- N0&#45;&gt;N6 -->\n",
       "<g id=\"edge10\" class=\"edge\">\n",
       "<title>N0-&gt;N6</title>\n",
       "<path fill=\"none\" stroke=\"black\" d=\"M406.71,-264.97C421.46,-252.14 441.46,-234.74 457.68,-220.63\"/>\n",
       "<polygon fill=\"black\" stroke=\"black\" points=\"460.05,-223.21 465.3,-214 455.46,-217.93 460.05,-223.21\"/>\n",
       "<text text-anchor=\"middle\" x=\"455.99\" y=\"-235.8\" font-family=\"Times New Roman,serif\" font-size=\"14.00\">Faux</text>\n",
       "</g>\n",
       "<!-- N2 -->\n",
       "<g id=\"node3\" class=\"node\">\n",
       "<title>N2</title>\n",
       "<ellipse fill=\"none\" stroke=\"black\" cx=\"90.99\" cy=\"-106\" rx=\"90.98\" ry=\"18\"/>\n",
       "<text text-anchor=\"middle\" x=\"90.99\" y=\"-102.3\" font-family=\"Times New Roman,serif\" font-size=\"14.00\">-0.8624903265431408</text>\n",
       "</g>\n",
       "<!-- N1&#45;&gt;N2 -->\n",
       "<g id=\"edge3\" class=\"edge\">\n",
       "<title>N1-&gt;N2</title>\n",
       "<path fill=\"none\" stroke=\"black\" d=\"M247.17,-175.97C214.76,-161.66 169.48,-141.66 136.02,-126.88\"/>\n",
       "<polygon fill=\"black\" stroke=\"black\" points=\"137.04,-123.51 126.47,-122.67 134.21,-129.91 137.04,-123.51\"/>\n",
       "<text text-anchor=\"middle\" x=\"213.99\" y=\"-146.8\" font-family=\"Times New Roman,serif\" font-size=\"14.00\">Vrai</text>\n",
       "</g>\n",
       "<!-- N3 -->\n",
       "<g id=\"node4\" class=\"node\">\n",
       "<title>N3</title>\n",
       "<polygon fill=\"none\" stroke=\"black\" points=\"375.99,-125 199.99,-125 199.99,-87 375.99,-87 375.99,-125\"/>\n",
       "<text text-anchor=\"middle\" x=\"287.99\" y=\"-109.8\" font-family=\"Times New Roman,serif\" font-size=\"14.00\">temperature &lt; 22.5</text>\n",
       "<text text-anchor=\"middle\" x=\"287.99\" y=\"-94.8\" font-family=\"Times New Roman,serif\" font-size=\"14.00\">QS = 0.24382141383660969</text>\n",
       "</g>\n",
       "<!-- N1&#45;&gt;N3 -->\n",
       "<g id=\"edge4\" class=\"edge\">\n",
       "<title>N1-&gt;N3</title>\n",
       "<path fill=\"none\" stroke=\"black\" d=\"M287.99,-175.97C287.99,-164.19 287.99,-148.56 287.99,-135.16\"/>\n",
       "<polygon fill=\"black\" stroke=\"black\" points=\"291.49,-135 287.99,-125 284.49,-135 291.49,-135\"/>\n",
       "<text text-anchor=\"middle\" x=\"301.99\" y=\"-146.8\" font-family=\"Times New Roman,serif\" font-size=\"14.00\">Faux</text>\n",
       "</g>\n",
       "<!-- N4 -->\n",
       "<g id=\"node5\" class=\"node\">\n",
       "<title>N4</title>\n",
       "<ellipse fill=\"none\" stroke=\"black\" cx=\"90.99\" cy=\"-18\" rx=\"90.98\" ry=\"18\"/>\n",
       "<text text-anchor=\"middle\" x=\"90.99\" y=\"-14.3\" font-family=\"Times New Roman,serif\" font-size=\"14.00\">-0.6280343548612316</text>\n",
       "</g>\n",
       "<!-- N3&#45;&gt;N4 -->\n",
       "<g id=\"edge1\" class=\"edge\">\n",
       "<title>N3-&gt;N4</title>\n",
       "<path fill=\"none\" stroke=\"black\" d=\"M246.69,-86.97C214.45,-72.9 169.69,-53.36 136.43,-38.84\"/>\n",
       "<polygon fill=\"black\" stroke=\"black\" points=\"137.51,-35.49 126.94,-34.69 134.71,-41.9 137.51,-35.49\"/>\n",
       "<text text-anchor=\"middle\" x=\"213.99\" y=\"-57.8\" font-family=\"Times New Roman,serif\" font-size=\"14.00\">Vrai</text>\n",
       "</g>\n",
       "<!-- N5 -->\n",
       "<g id=\"node6\" class=\"node\">\n",
       "<title>N5</title>\n",
       "<ellipse fill=\"none\" stroke=\"black\" cx=\"287.99\" cy=\"-18\" rx=\"87.99\" ry=\"18\"/>\n",
       "<text text-anchor=\"middle\" x=\"287.99\" y=\"-14.3\" font-family=\"Times New Roman,serif\" font-size=\"14.00\">0.4846766221832071</text>\n",
       "</g>\n",
       "<!-- N3&#45;&gt;N5 -->\n",
       "<g id=\"edge2\" class=\"edge\">\n",
       "<title>N3-&gt;N5</title>\n",
       "<path fill=\"none\" stroke=\"black\" d=\"M287.99,-86.76C287.99,-74.93 287.99,-59.32 287.99,-46.05\"/>\n",
       "<polygon fill=\"black\" stroke=\"black\" points=\"291.49,-46.04 287.99,-36.04 284.49,-46.04 291.49,-46.04\"/>\n",
       "<text text-anchor=\"middle\" x=\"301.99\" y=\"-57.8\" font-family=\"Times New Roman,serif\" font-size=\"14.00\">Faux</text>\n",
       "</g>\n",
       "<!-- N7 -->\n",
       "<g id=\"node8\" class=\"node\">\n",
       "<title>N7</title>\n",
       "<polygon fill=\"none\" stroke=\"black\" points=\"573.99,-125 397.99,-125 397.99,-87 573.99,-87 573.99,-125\"/>\n",
       "<text text-anchor=\"middle\" x=\"485.99\" y=\"-109.8\" font-family=\"Times New Roman,serif\" font-size=\"14.00\">temps = ensoleile</text>\n",
       "<text text-anchor=\"middle\" x=\"485.99\" y=\"-94.8\" font-family=\"Times New Roman,serif\" font-size=\"14.00\">QS = 0.10066222993222476</text>\n",
       "</g>\n",
       "<!-- N6&#45;&gt;N7 -->\n",
       "<g id=\"edge7\" class=\"edge\">\n",
       "<title>N6-&gt;N7</title>\n",
       "<path fill=\"none\" stroke=\"black\" d=\"M485.99,-175.97C485.99,-164.19 485.99,-148.56 485.99,-135.16\"/>\n",
       "<polygon fill=\"black\" stroke=\"black\" points=\"489.49,-135 485.99,-125 482.49,-135 489.49,-135\"/>\n",
       "<text text-anchor=\"middle\" x=\"497.99\" y=\"-146.8\" font-family=\"Times New Roman,serif\" font-size=\"14.00\">Vrai</text>\n",
       "</g>\n",
       "<!-- N10 -->\n",
       "<g id=\"node11\" class=\"node\">\n",
       "<title>N10</title>\n",
       "<ellipse fill=\"none\" stroke=\"black\" cx=\"679.99\" cy=\"-106\" rx=\"87.99\" ry=\"18\"/>\n",
       "<text text-anchor=\"middle\" x=\"679.99\" y=\"-102.3\" font-family=\"Times New Roman,serif\" font-size=\"14.00\">0.6242637766020209</text>\n",
       "</g>\n",
       "<!-- N6&#45;&gt;N10 -->\n",
       "<g id=\"edge8\" class=\"edge\">\n",
       "<title>N6-&gt;N10</title>\n",
       "<path fill=\"none\" stroke=\"black\" d=\"M526.19,-175.97C558.11,-161.66 602.7,-141.66 635.65,-126.88\"/>\n",
       "<polygon fill=\"black\" stroke=\"black\" points=\"637.36,-129.96 645.05,-122.67 634.49,-123.57 637.36,-129.96\"/>\n",
       "<text text-anchor=\"middle\" x=\"608.99\" y=\"-146.8\" font-family=\"Times New Roman,serif\" font-size=\"14.00\">Faux</text>\n",
       "</g>\n",
       "<!-- N8 -->\n",
       "<g id=\"node9\" class=\"node\">\n",
       "<title>N8</title>\n",
       "<ellipse fill=\"none\" stroke=\"black\" cx=\"485.99\" cy=\"-18\" rx=\"92.08\" ry=\"18\"/>\n",
       "<text text-anchor=\"middle\" x=\"485.99\" y=\"-14.3\" font-family=\"Times New Roman,serif\" font-size=\"14.00\">0.36019312966087014</text>\n",
       "</g>\n",
       "<!-- N7&#45;&gt;N8 -->\n",
       "<g id=\"edge5\" class=\"edge\">\n",
       "<title>N7-&gt;N8</title>\n",
       "<path fill=\"none\" stroke=\"black\" d=\"M485.99,-86.76C485.99,-74.93 485.99,-59.32 485.99,-46.05\"/>\n",
       "<polygon fill=\"black\" stroke=\"black\" points=\"489.49,-46.04 485.99,-36.04 482.49,-46.04 489.49,-46.04\"/>\n",
       "<text text-anchor=\"middle\" x=\"497.99\" y=\"-57.8\" font-family=\"Times New Roman,serif\" font-size=\"14.00\">Vrai</text>\n",
       "</g>\n",
       "<!-- N9 -->\n",
       "<g id=\"node10\" class=\"node\">\n",
       "<title>N9</title>\n",
       "<ellipse fill=\"none\" stroke=\"black\" cx=\"690.99\" cy=\"-18\" rx=\"94.78\" ry=\"18\"/>\n",
       "<text text-anchor=\"middle\" x=\"690.99\" y=\"-14.3\" font-family=\"Times New Roman,serif\" font-size=\"14.00\">-0.44145432310328875</text>\n",
       "</g>\n",
       "<!-- N7&#45;&gt;N9 -->\n",
       "<g id=\"edge6\" class=\"edge\">\n",
       "<title>N7-&gt;N9</title>\n",
       "<path fill=\"none\" stroke=\"black\" d=\"M528.97,-86.97C562.66,-72.83 609.5,-53.19 644.15,-38.65\"/>\n",
       "<polygon fill=\"black\" stroke=\"black\" points=\"645.71,-41.79 653.58,-34.69 643,-35.34 645.71,-41.79\"/>\n",
       "<text text-anchor=\"middle\" x=\"620.99\" y=\"-57.8\" font-family=\"Times New Roman,serif\" font-size=\"14.00\">Faux</text>\n",
       "</g>\n",
       "</g>\n",
       "</svg>"
      ],
      "text/plain": [
       "<IPython.core.display.SVG object>"
      ]
     },
     "metadata": {},
     "output_type": "display_data"
    }
   ],
   "source": [
    "# Visualisation de l'arbre en graphe\n",
    "try:\n",
    "    from IPython.display import SVG\n",
    "    from graphviz import Source\n",
    "    from IPython.display import display\n",
    "    \n",
    "    graph = Source(tree.graphviz())\n",
    "    display(SVG(graph.pipe(format='svg')))\n",
    "\n",
    "except ImportError:\n",
    "    print('Il faut installer graphviz')"
   ]
  },
  {
   "cell_type": "markdown",
   "metadata": {},
   "source": [
    "### I.4 Regrouper le modèle XGBOOST\n",
    "Maintenant qu'on a des arbres XGBOOST fonctionnels, on peut regrouper tout dans une classe qui représentera le modèle."
   ]
  },
  {
   "cell_type": "code",
   "execution_count": 340,
   "metadata": {},
   "outputs": [],
   "source": [
    "class XGBOOST:\n",
    "    def __init__(self, cls=False, learning_rate=0.1, M=100, max_depth=6, reg_lambda=1, reg_gamma=0, n=33, proba=False, seuil=0.5):\n",
    "        self.cls = cls\n",
    "        self.learning_rate = learning_rate # taux d'apprentissage\n",
    "        self.M = M # nombre d'itérations\n",
    "        self.reg_lambda = reg_lambda # paramètre de régularisation (lambda)\n",
    "        self.reg_gamma = reg_gamma # paramètre de régularisation (gamma)\n",
    "        self.fks = [] # Les fonctions de prédictions des arbres\n",
    "        self.trees = [] # Les arbres xgboost\n",
    "        self.n = n # nombre de quantiles à extraire pendant le Weighted Quantile Sketch pour les données quantitative\n",
    "        self.couts = [] # coûts enregistrés à chaque itération\n",
    "        self.proba = proba # si vrai et le modèle est en mode classification, le modèle renvoie des probabilité sinon il renvoie des classes \n",
    "        self.seuil = seuil # seuil pour la classification (< seuil => 0, >= seuil => 1)\n",
    "        self.max_depth = max_depth # hyper-paramètre qui limite la profondeur maximale de l'arbre\n",
    "\n",
    "    # Fonction globale d'entrainement\n",
    "    def entrainer(self, X:pd.DataFrame, Y:np.ndarray, X_noms:list[str]=[], Y_nom:str=''):\n",
    "        self.initial_pred = np.repeat(np.mean(Y), Y.size) # Commencer par une prédiction naïve (la moyenne)\n",
    "        tmp_X_noms = X_noms\n",
    "        if len(tmp_X_noms) == 0:\n",
    "            tmp_X_noms = X.columns.values # Si les noms des colonnes ne sont pas donnés prendre ceux de la Dataframe\n",
    "\n",
    "        courante_pred = self.initial_pred\n",
    "        # Entrainer un XGBTree pour chaque itération\n",
    "        for i in range(self.M):\n",
    "            tree = XGBTree(courante_pred, cls=self.cls, max_depth=self.max_depth, reg_lambda=self.reg_lambda, reg_gamma=self.reg_gamma)\n",
    "            tree.entrainer(X, Y, X_noms=tmp_X_noms, Y_nom=Y_nom, n=self.n)\n",
    "\n",
    "            # Mettre à jour la prédiction précédente (avec un taux d'apprentissage)\n",
    "            if self.cls: # Pour le cas du classement les poids des feuilles sont des log(odds)\n",
    "                courante_pred = p_to_log_odds(courante_pred) + self.learning_rate * tree.predire(X)\n",
    "                courante_pred = log_odds_to_p(courante_pred)\n",
    "            else:\n",
    "                courante_pred = courante_pred + self.learning_rate * tree.predire(X)\n",
    "\n",
    "            # Sauvegarder les paramètres\n",
    "            self.fks.append(tree.predire) # Sauvegarder les fonctions de prédictions (fk)\n",
    "            self.trees.append(tree) # Sauvegarder les arbres (pour affichage et analyse)\n",
    "            self.couts.append(Lk(Y, courante_pred, tree.W_feuilles, tree.loss, self.reg_lambda, self.reg_gamma, tree.T)) # Sauvegarder les coûts\n",
    "    \n",
    "    # Fonction globale de prédiction\n",
    "    def predire(self, X:pd.DataFrame):\n",
    "        initial_pred = self.initial_pred # Commencer par la prédiction initiale\n",
    "        if self.cls: # Pour le cas du classement les poids des feuilles sont des log(odds)\n",
    "            initial_pred = p_to_log_odds(initial_pred)\n",
    "            log_result = pred(X, initial_pred, self.fks, eta=self.learning_rate) # fonction de prédiction\n",
    "            probas = log_odds_to_p(log_result)\n",
    "            \n",
    "            if self.proba:\n",
    "                return probas\n",
    "            else:\n",
    "                return (probas >= self.seuil).astype(int)\n",
    "        else:\n",
    "            return pred(X, initial_pred, self.fks, eta=self.learning_rate) # fonction de prédiction"
   ]
  },
  {
   "cell_type": "code",
   "execution_count": 341,
   "metadata": {},
   "outputs": [
    {
     "name": "stdout",
     "output_type": "stream",
     "text": [
      "              precision    recall  f1-score   support\n",
      "\n",
      "           0       1.00      1.00      1.00         5\n",
      "           1       1.00      1.00      1.00         9\n",
      "\n",
      "    accuracy                           1.00        14\n",
      "   macro avg       1.00      1.00      1.00        14\n",
      "weighted avg       1.00      1.00      1.00        14\n",
      "\n"
     ]
    }
   ],
   "source": [
    "# Test sur le dataset \"jouer\"\n",
    "from sklearn.metrics import classification_report\n",
    "\n",
    "model = XGBOOST(cls=True, learning_rate=0.4, M=100, n=4)\n",
    "model.entrainer(X_jouer, Y_jouer, X_noms=[\"temps\", \"temperature\", \"humidite\", \"vent\"], Y_nom=\"jouer\")\n",
    "\n",
    "print(classification_report(Y_jouer, model.predire(X_jouer)))"
   ]
  },
  {
   "cell_type": "code",
   "execution_count": 342,
   "metadata": {},
   "outputs": [
    {
     "data": {
      "image/png": "[encoded data removed]",
      "text/plain": [
       "<Figure size 640x480 with 1 Axes>"
      ]
     },
     "metadata": {},
     "output_type": "display_data"
    }
   ],
   "source": [
    "# Affichage de la fonction coût globale du modèle au fil des itérations\n",
    "plt.plot(model.couts)\n",
    "plt.xlabel(\"Itérations\")\n",
    "plt.ylabel(\"Coût\")\n",
    "plt.show()"
   ]
  },
  {
   "cell_type": "markdown",
   "metadata": {},
   "source": [
    "## II. Test du modèle et comparaison\n",
    "\n",
    "Dans cette section, nous allons tester le modèle XGBOOST depuis la [bibliothèque officielle](https://xgboost.readthedocs.io/en/stable/) sur un dataset de prédiction des maladies cardiaques trouvé sur Kaggle [içi](https://www.kaggle.com/datasets/kamilpytlak/personal-key-indicators-of-heart-disease). Ensuite nous allons découvrir deux autres modèles (LightGBM et CatBoost) qui sont aussi des modèles qui se basent sur le concept de boosting et on les comparera avec le modèle XGBOOST."
   ]
  },
  {
   "cell_type": "markdown",
   "metadata": {},
   "source": [
    "### II.1 Test du modèle XGBOOST"
   ]
  },
  {
   "cell_type": "code",
   "execution_count": 343,
   "metadata": {},
   "outputs": [
    {
     "name": "stdout",
     "output_type": "stream",
     "text": [
      "<class 'pandas.core.frame.DataFrame'>\n",
      "RangeIndex: 319795 entries, 0 to 319794\n",
      "Data columns (total 18 columns):\n",
      " #   Column            Non-Null Count   Dtype  \n",
      "---  ------            --------------   -----  \n",
      " 0   HeartDisease      319795 non-null  object \n",
      " 1   BMI               319795 non-null  float64\n",
      " 2   Smoking           319795 non-null  object \n",
      " 3   AlcoholDrinking   319795 non-null  object \n",
      " 4   Stroke            319795 non-null  object \n",
      " 5   PhysicalHealth    319795 non-null  float64\n",
      " 6   MentalHealth      319795 non-null  float64\n",
      " 7   DiffWalking       319795 non-null  object \n",
      " 8   Sex               319795 non-null  object \n",
      " 9   AgeCategory       319795 non-null  object \n",
      " 10  Race              319795 non-null  object \n",
      " 11  Diabetic          319795 non-null  object \n",
      " 12  PhysicalActivity  319795 non-null  object \n",
      " 13  GenHealth         319795 non-null  object \n",
      " 14  SleepTime         319795 non-null  float64\n",
      " 15  Asthma            319795 non-null  object \n",
      " 16  KidneyDisease     319795 non-null  object \n",
      " 17  SkinCancer        319795 non-null  object \n",
      "dtypes: float64(4), object(14)\n",
      "memory usage: 43.9+ MB\n"
     ]
    }
   ],
   "source": [
    "# Importation des données\n",
    "\n",
    "data = pd.read_csv(\"data/heart.csv\")\n",
    "data.info()"
   ]
  },
  {
   "cell_type": "code",
   "execution_count": 344,
   "metadata": {},
   "outputs": [
    {
     "data": {
      "text/plain": [
       "HeartDisease\n",
       "No     292422\n",
       "Yes     27373\n",
       "Name: count, dtype: int64"
      ]
     },
     "execution_count": 344,
     "metadata": {},
     "output_type": "execute_result"
    }
   ],
   "source": [
    "# On remarque que les classes sont très deséquilibrées\n",
    "\n",
    "values_count = data['HeartDisease'].value_counts()\n",
    "values_count"
   ]
  },
  {
   "cell_type": "code",
   "execution_count": 345,
   "metadata": {},
   "outputs": [
    {
     "name": "stdout",
     "output_type": "stream",
     "text": [
      "<class 'pandas.core.frame.DataFrame'>\n",
      "RangeIndex: 54746 entries, 0 to 54745\n",
      "Data columns (total 18 columns):\n",
      " #   Column            Non-Null Count  Dtype  \n",
      "---  ------            --------------  -----  \n",
      " 0   HeartDisease      54746 non-null  object \n",
      " 1   BMI               54746 non-null  float64\n",
      " 2   Smoking           54746 non-null  object \n",
      " 3   AlcoholDrinking   54746 non-null  object \n",
      " 4   Stroke            54746 non-null  object \n",
      " 5   PhysicalHealth    54746 non-null  float64\n",
      " 6   MentalHealth      54746 non-null  float64\n",
      " 7   DiffWalking       54746 non-null  object \n",
      " 8   Sex               54746 non-null  object \n",
      " 9   AgeCategory       54746 non-null  object \n",
      " 10  Race              54746 non-null  object \n",
      " 11  Diabetic          54746 non-null  object \n",
      " 12  PhysicalActivity  54746 non-null  object \n",
      " 13  GenHealth         54746 non-null  object \n",
      " 14  SleepTime         54746 non-null  float64\n",
      " 15  Asthma            54746 non-null  object \n",
      " 16  KidneyDisease     54746 non-null  object \n",
      " 17  SkinCancer        54746 non-null  object \n",
      "dtypes: float64(4), object(14)\n",
      "memory usage: 7.5+ MB\n"
     ]
    }
   ],
   "source": [
    "\"\"\" On réduit donc l'échantillon qu'on travaillera dessus en appliquant un under-sampling, juste pour\n",
    "qu'on puisse bien visualiser les performances des modèles sur un dataset simple et équilibré\"\"\"\n",
    "n = values_count['Yes'] # Taille de la plus petite classe\n",
    "msk = data['HeartDisease'] == 'No'\n",
    "data = pd.concat((data[msk].sample(n=n), data[~msk]), ignore_index=True) # Choisir aléatoirement un nombre n d'individus de la plus grande classe\n",
    "data.info()"
   ]
  },
  {
   "cell_type": "code",
   "execution_count": 346,
   "metadata": {},
   "outputs": [
    {
     "data": {
      "text/html": [
       "<div>\n",
       "<style scoped>\n",
       "    .dataframe tbody tr th:only-of-type {\n",
       "        vertical-align: middle;\n",
       "    }\n",
       "\n",
       "    .dataframe tbody tr th {\n",
       "        vertical-align: top;\n",
       "    }\n",
       "\n",
       "    .dataframe thead th {\n",
       "        text-align: right;\n",
       "    }\n",
       "</style>\n",
       "<table border=\"1\" class=\"dataframe\">\n",
       "  <thead>\n",
       "    <tr style=\"text-align: right;\">\n",
       "      <th></th>\n",
       "      <th>BMI</th>\n",
       "      <th>Smoking</th>\n",
       "      <th>AlcoholDrinking</th>\n",
       "      <th>Stroke</th>\n",
       "      <th>PhysicalHealth</th>\n",
       "      <th>MentalHealth</th>\n",
       "      <th>DiffWalking</th>\n",
       "      <th>Sex</th>\n",
       "      <th>AgeCategory</th>\n",
       "      <th>Race</th>\n",
       "      <th>Diabetic</th>\n",
       "      <th>PhysicalActivity</th>\n",
       "      <th>GenHealth</th>\n",
       "      <th>SleepTime</th>\n",
       "      <th>Asthma</th>\n",
       "      <th>KidneyDisease</th>\n",
       "      <th>SkinCancer</th>\n",
       "    </tr>\n",
       "  </thead>\n",
       "  <tbody>\n",
       "    <tr>\n",
       "      <th>0</th>\n",
       "      <td>31.65</td>\n",
       "      <td>True</td>\n",
       "      <td>False</td>\n",
       "      <td>False</td>\n",
       "      <td>0.0</td>\n",
       "      <td>0.0</td>\n",
       "      <td>False</td>\n",
       "      <td>Male</td>\n",
       "      <td>60-64</td>\n",
       "      <td>Black</td>\n",
       "      <td>No</td>\n",
       "      <td>True</td>\n",
       "      <td>Good</td>\n",
       "      <td>8.0</td>\n",
       "      <td>False</td>\n",
       "      <td>False</td>\n",
       "      <td>False</td>\n",
       "    </tr>\n",
       "    <tr>\n",
       "      <th>1</th>\n",
       "      <td>31.47</td>\n",
       "      <td>True</td>\n",
       "      <td>False</td>\n",
       "      <td>False</td>\n",
       "      <td>0.0</td>\n",
       "      <td>30.0</td>\n",
       "      <td>False</td>\n",
       "      <td>Female</td>\n",
       "      <td>40-44</td>\n",
       "      <td>White</td>\n",
       "      <td>No</td>\n",
       "      <td>False</td>\n",
       "      <td>Very good</td>\n",
       "      <td>9.0</td>\n",
       "      <td>True</td>\n",
       "      <td>False</td>\n",
       "      <td>False</td>\n",
       "    </tr>\n",
       "    <tr>\n",
       "      <th>2</th>\n",
       "      <td>24.37</td>\n",
       "      <td>False</td>\n",
       "      <td>False</td>\n",
       "      <td>False</td>\n",
       "      <td>0.0</td>\n",
       "      <td>0.0</td>\n",
       "      <td>False</td>\n",
       "      <td>Female</td>\n",
       "      <td>50-54</td>\n",
       "      <td>White</td>\n",
       "      <td>No</td>\n",
       "      <td>True</td>\n",
       "      <td>Excellent</td>\n",
       "      <td>8.0</td>\n",
       "      <td>False</td>\n",
       "      <td>False</td>\n",
       "      <td>False</td>\n",
       "    </tr>\n",
       "    <tr>\n",
       "      <th>3</th>\n",
       "      <td>29.29</td>\n",
       "      <td>True</td>\n",
       "      <td>False</td>\n",
       "      <td>False</td>\n",
       "      <td>0.0</td>\n",
       "      <td>0.0</td>\n",
       "      <td>False</td>\n",
       "      <td>Male</td>\n",
       "      <td>45-49</td>\n",
       "      <td>Hispanic</td>\n",
       "      <td>No</td>\n",
       "      <td>False</td>\n",
       "      <td>Excellent</td>\n",
       "      <td>8.0</td>\n",
       "      <td>False</td>\n",
       "      <td>False</td>\n",
       "      <td>False</td>\n",
       "    </tr>\n",
       "    <tr>\n",
       "      <th>4</th>\n",
       "      <td>31.00</td>\n",
       "      <td>False</td>\n",
       "      <td>False</td>\n",
       "      <td>False</td>\n",
       "      <td>0.0</td>\n",
       "      <td>0.0</td>\n",
       "      <td>False</td>\n",
       "      <td>Male</td>\n",
       "      <td>55-59</td>\n",
       "      <td>White</td>\n",
       "      <td>No</td>\n",
       "      <td>True</td>\n",
       "      <td>Very good</td>\n",
       "      <td>7.0</td>\n",
       "      <td>False</td>\n",
       "      <td>False</td>\n",
       "      <td>False</td>\n",
       "    </tr>\n",
       "  </tbody>\n",
       "</table>\n",
       "</div>"
      ],
      "text/plain": [
       "     BMI  Smoking  AlcoholDrinking  Stroke  PhysicalHealth  MentalHealth   \n",
       "0  31.65     True            False   False             0.0           0.0  \\\n",
       "1  31.47     True            False   False             0.0          30.0   \n",
       "2  24.37    False            False   False             0.0           0.0   \n",
       "3  29.29     True            False   False             0.0           0.0   \n",
       "4  31.00    False            False   False             0.0           0.0   \n",
       "\n",
       "   DiffWalking     Sex AgeCategory      Race Diabetic  PhysicalActivity   \n",
       "0        False    Male       60-64     Black       No              True  \\\n",
       "1        False  Female       40-44     White       No             False   \n",
       "2        False  Female       50-54     White       No              True   \n",
       "3        False    Male       45-49  Hispanic       No             False   \n",
       "4        False    Male       55-59     White       No              True   \n",
       "\n",
       "   GenHealth  SleepTime  Asthma  KidneyDisease  SkinCancer  \n",
       "0       Good        8.0   False          False       False  \n",
       "1  Very good        9.0    True          False       False  \n",
       "2  Excellent        8.0   False          False       False  \n",
       "3  Excellent        8.0   False          False       False  \n",
       "4  Very good        7.0   False          False       False  "
      ]
     },
     "execution_count": 346,
     "metadata": {},
     "output_type": "execute_result"
    }
   ],
   "source": [
    "# Diviser les données en X (caractéristiques explicatives) et Y (sortie)\n",
    "# Il faut aussi remplacer les \"Yes\" et \"No\" par des valeurs booléennes\n",
    "\n",
    "X = data.drop(columns=['HeartDisease'])\n",
    "Y = data['HeartDisease']\n",
    "X.replace({'Yes': True, 'No': False}, inplace=True)\n",
    "X['Diabetic'].replace({False: 'No', True: 'Yes', 'No, borderline diabetes': 'No_borderline_diabetes', 'Yes (during pregnancy)': 'Yes_pregnancy'},\n",
    "                      inplace=True)\n",
    "Y.replace({'Yes': 1, 'No': 0}, inplace=True)\n",
    "\n",
    "X.head()"
   ]
  },
  {
   "cell_type": "code",
   "execution_count": 347,
   "metadata": {},
   "outputs": [
    {
     "data": {
      "text/html": [
       "<div>\n",
       "<style scoped>\n",
       "    .dataframe tbody tr th:only-of-type {\n",
       "        vertical-align: middle;\n",
       "    }\n",
       "\n",
       "    .dataframe tbody tr th {\n",
       "        vertical-align: top;\n",
       "    }\n",
       "\n",
       "    .dataframe thead th {\n",
       "        text-align: right;\n",
       "    }\n",
       "</style>\n",
       "<table border=\"1\" class=\"dataframe\">\n",
       "  <thead>\n",
       "    <tr style=\"text-align: right;\">\n",
       "      <th></th>\n",
       "      <th>BMI</th>\n",
       "      <th>Smoking</th>\n",
       "      <th>AlcoholDrinking</th>\n",
       "      <th>Stroke</th>\n",
       "      <th>PhysicalHealth</th>\n",
       "      <th>MentalHealth</th>\n",
       "      <th>DiffWalking</th>\n",
       "      <th>PhysicalActivity</th>\n",
       "      <th>SleepTime</th>\n",
       "      <th>Asthma</th>\n",
       "      <th>...</th>\n",
       "      <th>Race_White</th>\n",
       "      <th>Diabetic_No</th>\n",
       "      <th>Diabetic_No_borderline_diabetes</th>\n",
       "      <th>Diabetic_Yes</th>\n",
       "      <th>Diabetic_Yes_pregnancy</th>\n",
       "      <th>GenHealth_Excellent</th>\n",
       "      <th>GenHealth_Fair</th>\n",
       "      <th>GenHealth_Good</th>\n",
       "      <th>GenHealth_Poor</th>\n",
       "      <th>GenHealth_Very good</th>\n",
       "    </tr>\n",
       "  </thead>\n",
       "  <tbody>\n",
       "    <tr>\n",
       "      <th>21518</th>\n",
       "      <td>33.28</td>\n",
       "      <td>False</td>\n",
       "      <td>False</td>\n",
       "      <td>False</td>\n",
       "      <td>0.0</td>\n",
       "      <td>0.0</td>\n",
       "      <td>False</td>\n",
       "      <td>True</td>\n",
       "      <td>8.0</td>\n",
       "      <td>False</td>\n",
       "      <td>...</td>\n",
       "      <td>True</td>\n",
       "      <td>True</td>\n",
       "      <td>False</td>\n",
       "      <td>False</td>\n",
       "      <td>False</td>\n",
       "      <td>False</td>\n",
       "      <td>False</td>\n",
       "      <td>False</td>\n",
       "      <td>False</td>\n",
       "      <td>True</td>\n",
       "    </tr>\n",
       "    <tr>\n",
       "      <th>45306</th>\n",
       "      <td>31.45</td>\n",
       "      <td>False</td>\n",
       "      <td>False</td>\n",
       "      <td>False</td>\n",
       "      <td>17.0</td>\n",
       "      <td>5.0</td>\n",
       "      <td>False</td>\n",
       "      <td>False</td>\n",
       "      <td>7.0</td>\n",
       "      <td>False</td>\n",
       "      <td>...</td>\n",
       "      <td>True</td>\n",
       "      <td>False</td>\n",
       "      <td>False</td>\n",
       "      <td>True</td>\n",
       "      <td>False</td>\n",
       "      <td>False</td>\n",
       "      <td>True</td>\n",
       "      <td>False</td>\n",
       "      <td>False</td>\n",
       "      <td>False</td>\n",
       "    </tr>\n",
       "    <tr>\n",
       "      <th>25134</th>\n",
       "      <td>22.50</td>\n",
       "      <td>True</td>\n",
       "      <td>False</td>\n",
       "      <td>False</td>\n",
       "      <td>0.0</td>\n",
       "      <td>0.0</td>\n",
       "      <td>False</td>\n",
       "      <td>False</td>\n",
       "      <td>7.0</td>\n",
       "      <td>False</td>\n",
       "      <td>...</td>\n",
       "      <td>True</td>\n",
       "      <td>True</td>\n",
       "      <td>False</td>\n",
       "      <td>False</td>\n",
       "      <td>False</td>\n",
       "      <td>False</td>\n",
       "      <td>False</td>\n",
       "      <td>True</td>\n",
       "      <td>False</td>\n",
       "      <td>False</td>\n",
       "    </tr>\n",
       "    <tr>\n",
       "      <th>54457</th>\n",
       "      <td>34.95</td>\n",
       "      <td>True</td>\n",
       "      <td>False</td>\n",
       "      <td>False</td>\n",
       "      <td>0.0</td>\n",
       "      <td>0.0</td>\n",
       "      <td>True</td>\n",
       "      <td>True</td>\n",
       "      <td>6.0</td>\n",
       "      <td>False</td>\n",
       "      <td>...</td>\n",
       "      <td>False</td>\n",
       "      <td>False</td>\n",
       "      <td>False</td>\n",
       "      <td>True</td>\n",
       "      <td>False</td>\n",
       "      <td>False</td>\n",
       "      <td>False</td>\n",
       "      <td>True</td>\n",
       "      <td>False</td>\n",
       "      <td>False</td>\n",
       "    </tr>\n",
       "    <tr>\n",
       "      <th>45515</th>\n",
       "      <td>37.79</td>\n",
       "      <td>True</td>\n",
       "      <td>False</td>\n",
       "      <td>False</td>\n",
       "      <td>0.0</td>\n",
       "      <td>0.0</td>\n",
       "      <td>False</td>\n",
       "      <td>False</td>\n",
       "      <td>7.0</td>\n",
       "      <td>False</td>\n",
       "      <td>...</td>\n",
       "      <td>True</td>\n",
       "      <td>True</td>\n",
       "      <td>False</td>\n",
       "      <td>False</td>\n",
       "      <td>False</td>\n",
       "      <td>False</td>\n",
       "      <td>False</td>\n",
       "      <td>True</td>\n",
       "      <td>False</td>\n",
       "      <td>False</td>\n",
       "    </tr>\n",
       "  </tbody>\n",
       "</table>\n",
       "<p>5 rows × 42 columns</p>\n",
       "</div>"
      ],
      "text/plain": [
       "         BMI  Smoking  AlcoholDrinking  Stroke  PhysicalHealth  MentalHealth   \n",
       "21518  33.28    False            False   False             0.0           0.0  \\\n",
       "45306  31.45    False            False   False            17.0           5.0   \n",
       "25134  22.50     True            False   False             0.0           0.0   \n",
       "54457  34.95     True            False   False             0.0           0.0   \n",
       "45515  37.79     True            False   False             0.0           0.0   \n",
       "\n",
       "       DiffWalking  PhysicalActivity  SleepTime  Asthma  ...  Race_White   \n",
       "21518        False              True        8.0   False  ...        True  \\\n",
       "45306        False             False        7.0   False  ...        True   \n",
       "25134        False             False        7.0   False  ...        True   \n",
       "54457         True              True        6.0   False  ...       False   \n",
       "45515        False             False        7.0   False  ...        True   \n",
       "\n",
       "       Diabetic_No  Diabetic_No_borderline_diabetes  Diabetic_Yes   \n",
       "21518         True                            False         False  \\\n",
       "45306        False                            False          True   \n",
       "25134         True                            False         False   \n",
       "54457        False                            False          True   \n",
       "45515         True                            False         False   \n",
       "\n",
       "       Diabetic_Yes_pregnancy  GenHealth_Excellent  GenHealth_Fair   \n",
       "21518                   False                False           False  \\\n",
       "45306                   False                False            True   \n",
       "25134                   False                False           False   \n",
       "54457                   False                False           False   \n",
       "45515                   False                False           False   \n",
       "\n",
       "       GenHealth_Good  GenHealth_Poor  GenHealth_Very good  \n",
       "21518           False           False                 True  \n",
       "45306           False           False                False  \n",
       "25134            True           False                False  \n",
       "54457            True           False                False  \n",
       "45515            True           False                False  \n",
       "\n",
       "[5 rows x 42 columns]"
      ]
     },
     "execution_count": 347,
     "metadata": {},
     "output_type": "execute_result"
    }
   ],
   "source": [
    "# Diviser le dataset en dataset d'entrainement et dataset de test\n",
    "\n",
    "from sklearn.model_selection import train_test_split\n",
    "\n",
    "X_train, X_test, Y_train, Y_test = train_test_split(X, Y, test_size=0.1)\n",
    "\n",
    "# Appliquer un one hot encoding sur les variables qualitatives\n",
    "X_train_one_hot = pd.get_dummies(X_train)\n",
    "X_test_one_hot = pd.get_dummies(X_test)\n",
    "X_train_one_hot.head()"
   ]
  },
  {
   "cell_type": "code",
   "execution_count": 348,
   "metadata": {},
   "outputs": [
    {
     "name": "stdout",
     "output_type": "stream",
     "text": [
      "Requirement already satisfied: xgboost in c:\\users\\user\\appdata\\local\\programs\\python\\python311\\lib\\site-packages (2.0.2)\n",
      "Requirement already satisfied: numpy in c:\\users\\user\\appdata\\local\\programs\\python\\python311\\lib\\site-packages (from xgboost) (1.24.3)\n",
      "Requirement already satisfied: scipy in c:\\users\\user\\appdata\\local\\programs\\python\\python311\\lib\\site-packages (from xgboost) (1.11.4)\n",
      "Note: you may need to restart the kernel to use updated packages.\n"
     ]
    },
    {
     "name": "stderr",
     "output_type": "stream",
     "text": [
      "\n",
      "[notice] A new release of pip is available: 23.3.1 -> 23.3.2\n",
      "[notice] To update, run: python.exe -m pip install --upgrade pip\n"
     ]
    }
   ],
   "source": [
    "# Installation de la bibliothèque xgboost\n",
    "%pip install xgboost"
   ]
  },
  {
   "cell_type": "code",
   "execution_count": 349,
   "metadata": {},
   "outputs": [
    {
     "name": "stdout",
     "output_type": "stream",
     "text": [
      "              precision    recall  f1-score   support\n",
      "\n",
      "           0       0.78      0.73      0.75      2752\n",
      "           1       0.74      0.79      0.76      2723\n",
      "\n",
      "    accuracy                           0.76      5475\n",
      "   macro avg       0.76      0.76      0.76      5475\n",
      "weighted avg       0.76      0.76      0.76      5475\n",
      "\n"
     ]
    }
   ],
   "source": [
    "from xgboost import XGBClassifier\n",
    "from sklearn.metrics import f1_score, classification_report\n",
    "import timeit\n",
    "\n",
    "train_times = []\n",
    "train_errors = []\n",
    "test_times = []\n",
    "test_errors = []\n",
    "scores = []\n",
    "\n",
    "eval_set = [(X_train_one_hot, Y_train), (X_test_one_hot, Y_test)]\n",
    "eval_metric = 'logloss'\n",
    "xgb_model = XGBClassifier(n_estimators=100, eval_metric=eval_metric)\n",
    "\n",
    "# Entrainement du modèle XGBOOST\n",
    "start_time = timeit.default_timer()\n",
    "xgb_model.fit(X_train_one_hot, Y_train, eval_set=eval_set, verbose=False)\n",
    "train_time = timeit.default_timer() - start_time\n",
    "train_times.append(train_time)\n",
    "\n",
    "# Prédiction sur le dataset de test\n",
    "start_time = timeit.default_timer()\n",
    "xgb_pred = xgb_model.predict(X_test_one_hot)\n",
    "test_time = timeit.default_timer() - start_time\n",
    "test_times.append(test_time)\n",
    "score = f1_score(Y_test, xgb_pred)\n",
    "scores.append(score)\n",
    "\n",
    "# Sauvegarde des coûts\n",
    "errors = xgb_model.evals_result()['validation_0'][eval_metric] # lors de l'entrainement\n",
    "val_errors = xgb_model.evals_result()['validation_1'][eval_metric] # lors des tests\n",
    "train_errors.append(errors)\n",
    "test_errors.append(val_errors)\n",
    "\n",
    "print(classification_report(Y_test, xgb_pred))"
   ]
  },
  {
   "cell_type": "markdown",
   "metadata": {},
   "source": [
    "Le modèle XGBOOST a un F1 score assez élevé de 0.77 sur le dataset de test, ce qui reflète une bonne performance. Le modèle a pu bien classer les individus auyant une maladie cardiaque de ceux qui n'ont pas de maladies cardiaques. On peut confirmer celà grâce le matrice de confusion suivante: "
   ]
  },
  {
   "cell_type": "code",
   "execution_count": 350,
   "metadata": {},
   "outputs": [
    {
     "data": {
      "image/png": "[encoded data removed]",
      "text/plain": [
       "<Figure size 640x480 with 2 Axes>"
      ]
     },
     "metadata": {},
     "output_type": "display_data"
    }
   ],
   "source": [
    "from sklearn.metrics import confusion_matrix, ConfusionMatrixDisplay\n",
    "\n",
    "conf_mat = confusion_matrix(Y_test, xgb_pred)\n",
    "cm_display = ConfusionMatrixDisplay(conf_mat, display_labels=[\"Faux\", \"Vrai\"])\n",
    "cm_display.plot()\n",
    "plt.show()"
   ]
  },
  {
   "cell_type": "markdown",
   "metadata": {},
   "source": [
    "### II.2 Comparaison avec LightGBM et Catboost\n",
    "\n",
    "Dans cette section, on comparera les résultats obtenus avec le modèle XGBOOST avec ceux de LightGBM et Catboost. Mais d'abord il faudrait faire des brièves définitions pour ces modèles:\n",
    "- **LightGBM** (Light Gradient Boosting Machine): est un framework de gradient-boosting open-source distribué, développé initialement par Microsoft (2016). Ce modèle construit aussi des arbres de régression pour sa prédiction en développant les meilleures feuilles (leaf-wise) ce qui est différent de la construction des arbres pour XGBOOST qui développe ses arbres par niveau (level-wise). Ce modèle est très populaire pour son optimization de l'utilisation de la mémoire et sa performance.\n",
    "\n",
    "- **CatBoost**: est une bibliothèque opensource développée par Yandex (2017), elle fournit un framework de gradient-boosting spécialisée pour la gestion des caractéristiques catégoriques (données qualitatives) en utilisant des algorithmes dédiés et optimisés. Et c'est pour cet aspect que le modèle Catboost a gagné en popularité surtout au fait qu'il surpasse les autres modèles utilisant le boosting sur ce type de données. "
   ]
  },
  {
   "cell_type": "code",
   "execution_count": 351,
   "metadata": {},
   "outputs": [
    {
     "name": "stdout",
     "output_type": "stream",
     "text": [
      "Requirement already satisfied: lightgbm in c:\\users\\user\\appdata\\local\\programs\\python\\python311\\lib\\site-packages (4.2.0)Note: you may need to restart the kernel to use updated packages.\n"
     ]
    },
    {
     "name": "stderr",
     "output_type": "stream",
     "text": [
      "\n",
      "[notice] A new release of pip is available: 23.3.1 -> 23.3.2\n",
      "[notice] To update, run: python.exe -m pip install --upgrade pip\n"
     ]
    },
    {
     "name": "stdout",
     "output_type": "stream",
     "text": [
      "\n",
      "Requirement already satisfied: numpy in c:\\users\\user\\appdata\\local\\programs\\python\\python311\\lib\\site-packages (from lightgbm) (1.24.3)\n",
      "Requirement already satisfied: scipy in c:\\users\\user\\appdata\\local\\programs\\python\\python311\\lib\\site-packages (from lightgbm) (1.11.4)\n",
      "Requirement already satisfied: catboost in c:\\users\\user\\appdata\\local\\programs\\python\\python311\\lib\\site-packages (1.2.2)\n",
      "Requirement already satisfied: graphviz in c:\\users\\user\\appdata\\local\\programs\\python\\python311\\lib\\site-packages (from catboost) (0.20.1)\n",
      "Requirement already satisfied: matplotlib in c:\\users\\user\\appdata\\local\\programs\\python\\python311\\lib\\site-packages (from catboost) (3.8.1)\n",
      "Requirement already satisfied: numpy>=1.16.0 in c:\\users\\user\\appdata\\local\\programs\\python\\python311\\lib\\site-packages (from catboost) (1.24.3)\n",
      "Requirement already satisfied: pandas>=0.24 in c:\\users\\user\\appdata\\local\\programs\\python\\python311\\lib\\site-packages (from catboost) (2.0.1)\n",
      "Requirement already satisfied: scipy in c:\\users\\user\\appdata\\local\\programs\\python\\python311\\lib\\site-packages (from catboost) (1.11.4)\n",
      "Requirement already satisfied: plotly in c:\\users\\user\\appdata\\local\\programs\\python\\python311\\lib\\site-packages (from catboost) (5.18.0)\n",
      "Requirement already satisfied: six in c:\\users\\user\\appdata\\local\\programs\\python\\python311\\lib\\site-packages (from catboost) (1.16.0)\n",
      "Requirement already satisfied: python-dateutil>=2.8.2 in c:\\users\\user\\appdata\\local\\programs\\python\\python311\\lib\\site-packages (from pandas>=0.24->catboost) (2.8.2)\n",
      "Requirement already satisfied: pytz>=2020.1 in c:\\users\\user\\appdata\\local\\programs\\python\\python311\\lib\\site-packages (from pandas>=0.24->catboost) (2023.3)\n",
      "Requirement already satisfied: tzdata>=2022.1 in c:\\users\\user\\appdata\\local\\programs\\python\\python311\\lib\\site-packages (from pandas>=0.24->catboost) (2023.3)\n",
      "Requirement already satisfied: contourpy>=1.0.1 in c:\\users\\user\\appdata\\local\\programs\\python\\python311\\lib\\site-packages (from matplotlib->catboost) (1.2.0)\n",
      "Requirement already satisfied: cycler>=0.10 in c:\\users\\user\\appdata\\local\\programs\\python\\python311\\lib\\site-packages (from matplotlib->catboost) (0.12.1)\n",
      "Requirement already satisfied: fonttools>=4.22.0 in c:\\users\\user\\appdata\\local\\programs\\python\\python311\\lib\\site-packages (from matplotlib->catboost) (4.44.0)\n",
      "Requirement already satisfied: kiwisolver>=1.3.1 in c:\\users\\user\\appdata\\local\\programs\\python\\python311\\lib\\site-packages (from matplotlib->catboost) (1.4.5)\n",
      "Requirement already satisfied: packaging>=20.0 in c:\\users\\user\\appdata\\local\\programs\\python\\python311\\lib\\site-packages (from matplotlib->catboost) (23.0)\n",
      "Requirement already satisfied: pillow>=8 in c:\\users\\user\\appdata\\local\\programs\\python\\python311\\lib\\site-packages (from matplotlib->catboost) (10.1.0)\n",
      "Requirement already satisfied: pyparsing>=2.3.1 in c:\\users\\user\\appdata\\local\\programs\\python\\python311\\lib\\site-packages (from matplotlib->catboost) (3.1.1)\n",
      "Requirement already satisfied: tenacity>=6.2.0 in c:\\users\\user\\appdata\\local\\programs\\python\\python311\\lib\\site-packages (from plotly->catboost) (8.2.3)\n",
      "Note: you may need to restart the kernel to use updated packages.\n"
     ]
    },
    {
     "name": "stderr",
     "output_type": "stream",
     "text": [
      "\n",
      "[notice] A new release of pip is available: 23.3.1 -> 23.3.2\n",
      "[notice] To update, run: python.exe -m pip install --upgrade pip\n"
     ]
    }
   ],
   "source": [
    "# Installation des bibliothèques\n",
    "%pip install lightgbm\n",
    "%pip install catboost"
   ]
  },
  {
   "cell_type": "code",
   "execution_count": 352,
   "metadata": {},
   "outputs": [],
   "source": [
    "from lightgbm import LGBMClassifier\n",
    "from catboost import CatBoostClassifier\n",
    "\n",
    "lgbm_model = LGBMClassifier(n_estimators=100, verbose=-1)\n",
    "catboost_model = CatBoostClassifier(n_estimators=100 ,cat_features=['Smoking', 'AlcoholDrinking', 'Stroke', 'DiffWalking', 'Sex', 'AgeCategory',\n",
    "                                                  'Race', 'Diabetic', 'PhysicalActivity', 'GenHealth', 'Asthma', 'KidneyDisease',\n",
    "                                                  'SkinCancer'], verbose=False)\n",
    "\n",
    "# Entrainement du modèle LightGBM\n",
    "eval_set = [(X_train_one_hot, Y_train), (X_test_one_hot, Y_test)]\n",
    "eval_metric = 'binary_logloss'\n",
    "\n",
    "start_time = timeit.default_timer()\n",
    "lgbm_model.fit(X_train_one_hot, Y_train, eval_set=eval_set, eval_metric=eval_metric)\n",
    "train_time = timeit.default_timer() - start_time\n",
    "train_times.append(train_time)\n",
    "\n",
    "errors = lgbm_model.evals_result_['training'][eval_metric] # Sauvegarde des coût d'entrainement\n",
    "val_errors = lgbm_model.evals_result_['valid_1'][eval_metric] # Sauvegarde des coût de test\n",
    "train_errors.append(errors)\n",
    "test_errors.append(val_errors)\n",
    "\n",
    "# Entrainement du modèle CatBoost\n",
    "eval_original_set = [(X_test, Y_test)]\n",
    "eval_metric = 'Logloss'\n",
    "\n",
    "start_time = timeit.default_timer()\n",
    "catboost_model.fit(X_train, Y_train, eval_set=eval_original_set)\n",
    "train_time = timeit.default_timer() - start_time\n",
    "train_times.append(train_time)\n",
    "\n",
    "errors = catboost_model.evals_result_['learn'][eval_metric] # Sauvegarde des coût d'entrainement\n",
    "val_errors = catboost_model.evals_result_['validation'][eval_metric] # Sauvegarde des coût de test\n",
    "train_errors.append(errors)\n",
    "test_errors.append(val_errors)\n",
    "\n",
    "# Prédiction sur le dataset de test (LightGBM)\n",
    "start_time = timeit.default_timer()\n",
    "lgbm_pred = lgbm_model.predict(X_test_one_hot)\n",
    "test_time = timeit.default_timer() - start_time\n",
    "test_times.append(test_time)\n",
    "score = f1_score(Y_test, lgbm_pred)\n",
    "scores.append(score)\n",
    "\n",
    "# Prédiction sur le dataset de test (Catboost)\n",
    "start_time = timeit.default_timer()\n",
    "catboost_pred = catboost_model.predict(X_test)\n",
    "test_time = timeit.default_timer() - start_time\n",
    "test_times.append(test_time)\n",
    "score = f1_score(Y_test, catboost_pred)\n",
    "scores.append(score)"
   ]
  },
  {
   "cell_type": "code",
   "execution_count": 353,
   "metadata": {},
   "outputs": [
    {
     "data": {
      "text/html": [
       "<div>\n",
       "<style scoped>\n",
       "    .dataframe tbody tr th:only-of-type {\n",
       "        vertical-align: middle;\n",
       "    }\n",
       "\n",
       "    .dataframe tbody tr th {\n",
       "        vertical-align: top;\n",
       "    }\n",
       "\n",
       "    .dataframe thead th {\n",
       "        text-align: right;\n",
       "    }\n",
       "</style>\n",
       "<table border=\"1\" class=\"dataframe\">\n",
       "  <thead>\n",
       "    <tr style=\"text-align: right;\">\n",
       "      <th></th>\n",
       "      <th>Modèle</th>\n",
       "      <th>Temps d'entrainment</th>\n",
       "      <th>Temps de test</th>\n",
       "      <th>F1 score</th>\n",
       "    </tr>\n",
       "  </thead>\n",
       "  <tbody>\n",
       "    <tr>\n",
       "      <th>0</th>\n",
       "      <td>XGBOOST</td>\n",
       "      <td>0.845037</td>\n",
       "      <td>0.029610</td>\n",
       "      <td>0.763378</td>\n",
       "    </tr>\n",
       "    <tr>\n",
       "      <th>1</th>\n",
       "      <td>LightGBM</td>\n",
       "      <td>0.581864</td>\n",
       "      <td>0.009653</td>\n",
       "      <td>0.773086</td>\n",
       "    </tr>\n",
       "    <tr>\n",
       "      <th>2</th>\n",
       "      <td>CatBoost</td>\n",
       "      <td>4.928102</td>\n",
       "      <td>0.190193</td>\n",
       "      <td>0.775424</td>\n",
       "    </tr>\n",
       "  </tbody>\n",
       "</table>\n",
       "</div>"
      ],
      "text/plain": [
       "     Modèle  Temps d'entrainment  Temps de test  F1 score\n",
       "0   XGBOOST             0.845037       0.029610  0.763378\n",
       "1  LightGBM             0.581864       0.009653  0.773086\n",
       "2  CatBoost             4.928102       0.190193  0.775424"
      ]
     },
     "execution_count": 353,
     "metadata": {},
     "output_type": "execute_result"
    }
   ],
   "source": [
    "# Résultats des tests\n",
    "stat_results = pd.DataFrame({\n",
    "    \"Modèle\": [\"XGBOOST\", \"LightGBM\", \"CatBoost\"],\n",
    "    \"Temps d'entrainment\": train_times,\n",
    "    \"Temps de test\": test_times,\n",
    "    \"F1 score\": scores\n",
    "})\n",
    "\n",
    "stat_results"
   ]
  },
  {
   "cell_type": "markdown",
   "metadata": {},
   "source": [
    "Nous remarquons içi, que le modèle ayant le meilleur F1 score est le modèle CatBoost, il surpasse les autres modèles sur la qualité de ses prédictions. Par contre, c'est le plus lent en terme de temps d'entrainement et de test par rapport aux autres modèles. LightGBM est le plus rapide en terme de temps d'entrainement et de temps de test et il assure aussi un F1 score très proche de celui de Catboost. En conclusion, on pourrait dire que le modèle le plus performant pour ce problème et ces données en considérant tous les points serait LightGBM (mieux que XGBOOST) étant donné qu'il est le plus rapide en exécution et assez performant en terme de score et prédiction. "
   ]
  },
  {
   "cell_type": "code",
   "execution_count": 354,
   "metadata": {},
   "outputs": [
    {
     "data": {
      "text/plain": [
       "<matplotlib.legend.Legend at 0x24414fc4f50>"
      ]
     },
     "execution_count": 354,
     "metadata": {},
     "output_type": "execute_result"
    },
    {
     "data": {
      "image/png": "[encoded data removed]",
      "text/plain": [
       "<Figure size 640x480 with 1 Axes>"
      ]
     },
     "metadata": {},
     "output_type": "display_data"
    }
   ],
   "source": [
    "# Affichage de la diminition en coût des trois modèles pendant l'entrainement\n",
    "\n",
    "plt.plot(train_errors[0], color='red', label=\"XGBOOST\")\n",
    "plt.plot(train_errors[1], color='green', label=\"LightGBM\")\n",
    "plt.plot(train_errors[2], color='blue', label=\"CatBoost\")\n",
    "plt.xlabel(\"Itérations\")\n",
    "plt.ylabel(\"Coût (NLL) pendant l'entrainement\")\n",
    "plt.legend()"
   ]
  },
  {
   "cell_type": "markdown",
   "metadata": {},
   "source": [
    "Sur ce graph, on peut comparer la vitesse de convergence des différents algorithmes pendant l'entrainement, notons que tous les modèles ont été laissés avec leurs hyper-paramètres par défaut (sauf pour le nombre d'estimateurs qui est à 100 pour limiter le nombre d'itérations). On remarque bien que le modèle XGBOOST converge plus rapidement (cela pourrait être dû aux optimisations algorithmiques, régularisations L1 et L2 et parralélisme de plusieurs tâches sur une itération), suivi du modèle LightGBM ensuite celui de CatBoost qui est le plus lent."
   ]
  },
  {
   "cell_type": "code",
   "execution_count": 355,
   "metadata": {},
   "outputs": [
    {
     "data": {
      "text/plain": [
       "<matplotlib.legend.Legend at 0x244216e15d0>"
      ]
     },
     "execution_count": 355,
     "metadata": {},
     "output_type": "execute_result"
    },
    {
     "data": {
      "image/png": "[encoded data removed]",
      "text/plain": [
       "<Figure size 640x480 with 1 Axes>"
      ]
     },
     "metadata": {},
     "output_type": "display_data"
    }
   ],
   "source": [
    "# Affichage du coût des trois modèles sur le dataset de validation (test) pour chaque itération\n",
    "\n",
    "plt.plot(test_errors[0], color='red', label=\"XGBOOST\")\n",
    "plt.plot(test_errors[1], color='green', label=\"LightGBM\")\n",
    "plt.plot(test_errors[2], color='blue', label=\"CatBoost\")\n",
    "plt.xlabel(\"Itérations\")\n",
    "plt.ylabel(\"Coût (NLL) des tests\")\n",
    "plt.legend()"
   ]
  },
  {
   "cell_type": "markdown",
   "metadata": {},
   "source": [
    "Sur ce graph, on peut visualiser et comparer la généralisation des modèles. On remarque içi que le modèle CatBoost arrive le plus rapidement au coût minimal et reste stable, suivi du modèle LightGBM qui se comporte de la même façon sauf qu'il est un peu moins rapide à arriver à son minimum. Ces modèles (CatBoost et LightGBM) ont une assez bonne performance sur les données de test (celà explique leurs F1 scores élévés précedemment) et évitent le sur-apprentissage (over-fitting). Par contre pour le modèle XGBOOST, on remarque que dès qu'il arrive au minimum, le coût augemente au fil des itérations, celà indique que le modèle XGBOOST est train de sur-apprendre (over-fitting). On en conclut que les modèles CatBoost et LightGBM évitent mieux l'over-fitting que le modèle XGBOOST."
   ]
  }
 ],
 "metadata": {
  "kernelspec": {
   "display_name": "Python 3",
   "language": "python",
   "name": "python3"
  },
  "language_info": {
   "codemirror_mode": {
    "name": "ipython",
    "version": 3
   },
   "file_extension": ".py",
   "mimetype": "text/x-python",
   "name": "python",
   "nbconvert_exporter": "python",
   "pygments_lexer": "ipython3",
   "version": "3.11.1"
  }
 },
 "nbformat": 4,
 "nbformat_minor": 2
}
